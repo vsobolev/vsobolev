{
  "cells": [
    {
      "cell_type": "markdown",
      "metadata": {
        "id": "view-in-github",
        "colab_type": "text"
      },
      "source": [
        "<a href=\"https://colab.research.google.com/github/vsobolev/vsobolev/blob/main/Chuki_Roko_may_v1.ipynb\" target=\"_parent\"><img src=\"https://colab.research.google.com/assets/colab-badge.svg\" alt=\"Open In Colab\"/></a>"
      ]
    },
    {
      "cell_type": "code",
      "execution_count": 1,
      "metadata": {
        "colab": {
          "base_uri": "https://localhost:8080/"
        },
        "id": "KXAmcH4L5AFH",
        "outputId": "2d8848f8-be8f-4ea3-e22d-06e186257388"
      },
      "outputs": [
        {
          "output_type": "stream",
          "name": "stdout",
          "text": [
            "Requirement already satisfied: missingno in /usr/local/lib/python3.7/dist-packages (0.5.1)\n",
            "Requirement already satisfied: numpy in /usr/local/lib/python3.7/dist-packages (from missingno) (1.21.6)\n",
            "Requirement already satisfied: matplotlib in /usr/local/lib/python3.7/dist-packages (from missingno) (3.2.2)\n",
            "Requirement already satisfied: seaborn in /usr/local/lib/python3.7/dist-packages (from missingno) (0.11.2)\n",
            "Requirement already satisfied: scipy in /usr/local/lib/python3.7/dist-packages (from missingno) (1.4.1)\n",
            "Requirement already satisfied: kiwisolver>=1.0.1 in /usr/local/lib/python3.7/dist-packages (from matplotlib->missingno) (1.4.2)\n",
            "Requirement already satisfied: python-dateutil>=2.1 in /usr/local/lib/python3.7/dist-packages (from matplotlib->missingno) (2.8.2)\n",
            "Requirement already satisfied: cycler>=0.10 in /usr/local/lib/python3.7/dist-packages (from matplotlib->missingno) (0.11.0)\n",
            "Requirement already satisfied: pyparsing!=2.0.4,!=2.1.2,!=2.1.6,>=2.0.1 in /usr/local/lib/python3.7/dist-packages (from matplotlib->missingno) (3.0.9)\n",
            "Requirement already satisfied: typing-extensions in /usr/local/lib/python3.7/dist-packages (from kiwisolver>=1.0.1->matplotlib->missingno) (4.2.0)\n",
            "Requirement already satisfied: six>=1.5 in /usr/local/lib/python3.7/dist-packages (from python-dateutil>=2.1->matplotlib->missingno) (1.15.0)\n",
            "Requirement already satisfied: pandas>=0.23 in /usr/local/lib/python3.7/dist-packages (from seaborn->missingno) (1.3.5)\n",
            "Requirement already satisfied: pytz>=2017.3 in /usr/local/lib/python3.7/dist-packages (from pandas>=0.23->seaborn->missingno) (2022.1)\n",
            "Requirement already satisfied: missingno in /usr/local/lib/python3.7/dist-packages (0.5.1)\n",
            "Requirement already satisfied: seaborn in /usr/local/lib/python3.7/dist-packages (from missingno) (0.11.2)\n",
            "Requirement already satisfied: numpy in /usr/local/lib/python3.7/dist-packages (from missingno) (1.21.6)\n",
            "Requirement already satisfied: scipy in /usr/local/lib/python3.7/dist-packages (from missingno) (1.4.1)\n",
            "Requirement already satisfied: matplotlib in /usr/local/lib/python3.7/dist-packages (from missingno) (3.2.2)\n",
            "Requirement already satisfied: python-dateutil>=2.1 in /usr/local/lib/python3.7/dist-packages (from matplotlib->missingno) (2.8.2)\n",
            "Requirement already satisfied: cycler>=0.10 in /usr/local/lib/python3.7/dist-packages (from matplotlib->missingno) (0.11.0)\n",
            "Requirement already satisfied: pyparsing!=2.0.4,!=2.1.2,!=2.1.6,>=2.0.1 in /usr/local/lib/python3.7/dist-packages (from matplotlib->missingno) (3.0.9)\n",
            "Requirement already satisfied: kiwisolver>=1.0.1 in /usr/local/lib/python3.7/dist-packages (from matplotlib->missingno) (1.4.2)\n",
            "Requirement already satisfied: typing-extensions in /usr/local/lib/python3.7/dist-packages (from kiwisolver>=1.0.1->matplotlib->missingno) (4.2.0)\n",
            "Requirement already satisfied: six>=1.5 in /usr/local/lib/python3.7/dist-packages (from python-dateutil>=2.1->matplotlib->missingno) (1.15.0)\n",
            "Requirement already satisfied: pandas>=0.23 in /usr/local/lib/python3.7/dist-packages (from seaborn->missingno) (1.3.5)\n",
            "Requirement already satisfied: pytz>=2017.3 in /usr/local/lib/python3.7/dist-packages (from pandas>=0.23->seaborn->missingno) (2022.1)\n",
            "Requirement already satisfied: python-dateutil in /usr/local/lib/python3.7/dist-packages (2.8.2)\n",
            "Requirement already satisfied: six>=1.5 in /usr/local/lib/python3.7/dist-packages (from python-dateutil) (1.15.0)\n"
          ]
        }
      ],
      "source": [
        "!pip install missingno\n",
        "!pip install missingno\n",
        "!pip3 install python-dateutil\n",
        "import numpy as np\n",
        "import pandas as pd\n",
        "import math\n",
        "import datetime\n",
        "import os\n",
        "import scipy\n",
        "from scipy.stats import kurtosis\n",
        "from scipy.stats import skew\n",
        "import missingno as msno\n",
        "\n",
        "\n",
        "#import missingno as msno\n",
        "from datetime import datetime, timedelta\n",
        "\n",
        "import matplotlib.pyplot as plt\n",
        "%matplotlib inline\n",
        "import seaborn as sns\n",
        "plt.style.use('seaborn-darkgrid')\n",
        "palette = plt.get_cmap('Set2')\n",
        "\n",
        "\n",
        "\n"
      ]
    },
    {
      "cell_type": "markdown",
      "source": [
        "### Loading data from CSV\n"
      ],
      "metadata": {
        "id": "sIt4fO_xgjcv"
      }
    },
    {
      "cell_type": "code",
      "execution_count": 29,
      "metadata": {
        "id": "4FP-tQBbjQvG"
      },
      "outputs": [],
      "source": [
        "#toy_columns = ['id', 'pcs', 'created', 'toy_id', 'user_id',  'coins_payed', 'is_gift']\n",
        "\n",
        "#df_toys = pd.read_csv(\"toys.csv\", columns =  toy_columns, index_col='id')\n",
        "users = pd.read_csv(\"users.csv\", delimiter='\\t', index_col=0)\n",
        "toys = pd.read_csv(\"toys.csv\", delimiter='\\t', index_col=0)\n",
        "\n",
        "#with open('users.csv', 'r') as user:\n",
        "#    header = f.readline().strip().split('\\t')\n",
        "#header.append('')\n"
      ]
    },
    {
      "cell_type": "markdown",
      "source": [
        "###  Formatting (created) to Y-M-D-H-M-S format"
      ],
      "metadata": {
        "id": "kcRRblPXgpcN"
      }
    },
    {
      "cell_type": "code",
      "execution_count": 30,
      "metadata": {
        "colab": {
          "base_uri": "https://localhost:8080/",
          "height": 238
        },
        "id": "kpXe_mJOQ-uG",
        "outputId": "69a522b4-b59a-4417-98d7-a61f1fc11f26"
      },
      "outputs": [
        {
          "output_type": "execute_result",
          "data": {
            "text/plain": [
              "           pcs              created  toy_id  user_id  coins_payed  is_gift\n",
              "id                                                                        \n",
              "5942611  22900  2022-05-02 00:04:47     557   207371            0    False\n",
              "5942579  22893  2022-05-02 00:00:08     557   161333            0    False\n",
              "5942580  58791  2022-05-02 00:00:16     556   425707            0    False\n",
              "5942581  46376  2022-05-02 00:00:22     343   332362           25    False\n",
              "5942582  58792  2022-05-02 00:00:38     556   337092            0    False"
            ],
            "text/html": [
              "\n",
              "  <div id=\"df-6571d9d5-a022-47fa-a443-98ec30ea3d6d\">\n",
              "    <div class=\"colab-df-container\">\n",
              "      <div>\n",
              "<style scoped>\n",
              "    .dataframe tbody tr th:only-of-type {\n",
              "        vertical-align: middle;\n",
              "    }\n",
              "\n",
              "    .dataframe tbody tr th {\n",
              "        vertical-align: top;\n",
              "    }\n",
              "\n",
              "    .dataframe thead th {\n",
              "        text-align: right;\n",
              "    }\n",
              "</style>\n",
              "<table border=\"1\" class=\"dataframe\">\n",
              "  <thead>\n",
              "    <tr style=\"text-align: right;\">\n",
              "      <th></th>\n",
              "      <th>pcs</th>\n",
              "      <th>created</th>\n",
              "      <th>toy_id</th>\n",
              "      <th>user_id</th>\n",
              "      <th>coins_payed</th>\n",
              "      <th>is_gift</th>\n",
              "    </tr>\n",
              "    <tr>\n",
              "      <th>id</th>\n",
              "      <th></th>\n",
              "      <th></th>\n",
              "      <th></th>\n",
              "      <th></th>\n",
              "      <th></th>\n",
              "      <th></th>\n",
              "    </tr>\n",
              "  </thead>\n",
              "  <tbody>\n",
              "    <tr>\n",
              "      <th>5942611</th>\n",
              "      <td>22900</td>\n",
              "      <td>2022-05-02 00:04:47</td>\n",
              "      <td>557</td>\n",
              "      <td>207371</td>\n",
              "      <td>0</td>\n",
              "      <td>False</td>\n",
              "    </tr>\n",
              "    <tr>\n",
              "      <th>5942579</th>\n",
              "      <td>22893</td>\n",
              "      <td>2022-05-02 00:00:08</td>\n",
              "      <td>557</td>\n",
              "      <td>161333</td>\n",
              "      <td>0</td>\n",
              "      <td>False</td>\n",
              "    </tr>\n",
              "    <tr>\n",
              "      <th>5942580</th>\n",
              "      <td>58791</td>\n",
              "      <td>2022-05-02 00:00:16</td>\n",
              "      <td>556</td>\n",
              "      <td>425707</td>\n",
              "      <td>0</td>\n",
              "      <td>False</td>\n",
              "    </tr>\n",
              "    <tr>\n",
              "      <th>5942581</th>\n",
              "      <td>46376</td>\n",
              "      <td>2022-05-02 00:00:22</td>\n",
              "      <td>343</td>\n",
              "      <td>332362</td>\n",
              "      <td>25</td>\n",
              "      <td>False</td>\n",
              "    </tr>\n",
              "    <tr>\n",
              "      <th>5942582</th>\n",
              "      <td>58792</td>\n",
              "      <td>2022-05-02 00:00:38</td>\n",
              "      <td>556</td>\n",
              "      <td>337092</td>\n",
              "      <td>0</td>\n",
              "      <td>False</td>\n",
              "    </tr>\n",
              "  </tbody>\n",
              "</table>\n",
              "</div>\n",
              "      <button class=\"colab-df-convert\" onclick=\"convertToInteractive('df-6571d9d5-a022-47fa-a443-98ec30ea3d6d')\"\n",
              "              title=\"Convert this dataframe to an interactive table.\"\n",
              "              style=\"display:none;\">\n",
              "        \n",
              "  <svg xmlns=\"http://www.w3.org/2000/svg\" height=\"24px\"viewBox=\"0 0 24 24\"\n",
              "       width=\"24px\">\n",
              "    <path d=\"M0 0h24v24H0V0z\" fill=\"none\"/>\n",
              "    <path d=\"M18.56 5.44l.94 2.06.94-2.06 2.06-.94-2.06-.94-.94-2.06-.94 2.06-2.06.94zm-11 1L8.5 8.5l.94-2.06 2.06-.94-2.06-.94L8.5 2.5l-.94 2.06-2.06.94zm10 10l.94 2.06.94-2.06 2.06-.94-2.06-.94-.94-2.06-.94 2.06-2.06.94z\"/><path d=\"M17.41 7.96l-1.37-1.37c-.4-.4-.92-.59-1.43-.59-.52 0-1.04.2-1.43.59L10.3 9.45l-7.72 7.72c-.78.78-.78 2.05 0 2.83L4 21.41c.39.39.9.59 1.41.59.51 0 1.02-.2 1.41-.59l7.78-7.78 2.81-2.81c.8-.78.8-2.07 0-2.86zM5.41 20L4 18.59l7.72-7.72 1.47 1.35L5.41 20z\"/>\n",
              "  </svg>\n",
              "      </button>\n",
              "      \n",
              "  <style>\n",
              "    .colab-df-container {\n",
              "      display:flex;\n",
              "      flex-wrap:wrap;\n",
              "      gap: 12px;\n",
              "    }\n",
              "\n",
              "    .colab-df-convert {\n",
              "      background-color: #E8F0FE;\n",
              "      border: none;\n",
              "      border-radius: 50%;\n",
              "      cursor: pointer;\n",
              "      display: none;\n",
              "      fill: #1967D2;\n",
              "      height: 32px;\n",
              "      padding: 0 0 0 0;\n",
              "      width: 32px;\n",
              "    }\n",
              "\n",
              "    .colab-df-convert:hover {\n",
              "      background-color: #E2EBFA;\n",
              "      box-shadow: 0px 1px 2px rgba(60, 64, 67, 0.3), 0px 1px 3px 1px rgba(60, 64, 67, 0.15);\n",
              "      fill: #174EA6;\n",
              "    }\n",
              "\n",
              "    [theme=dark] .colab-df-convert {\n",
              "      background-color: #3B4455;\n",
              "      fill: #D2E3FC;\n",
              "    }\n",
              "\n",
              "    [theme=dark] .colab-df-convert:hover {\n",
              "      background-color: #434B5C;\n",
              "      box-shadow: 0px 1px 3px 1px rgba(0, 0, 0, 0.15);\n",
              "      filter: drop-shadow(0px 1px 2px rgba(0, 0, 0, 0.3));\n",
              "      fill: #FFFFFF;\n",
              "    }\n",
              "  </style>\n",
              "\n",
              "      <script>\n",
              "        const buttonEl =\n",
              "          document.querySelector('#df-6571d9d5-a022-47fa-a443-98ec30ea3d6d button.colab-df-convert');\n",
              "        buttonEl.style.display =\n",
              "          google.colab.kernel.accessAllowed ? 'block' : 'none';\n",
              "\n",
              "        async function convertToInteractive(key) {\n",
              "          const element = document.querySelector('#df-6571d9d5-a022-47fa-a443-98ec30ea3d6d');\n",
              "          const dataTable =\n",
              "            await google.colab.kernel.invokeFunction('convertToInteractive',\n",
              "                                                     [key], {});\n",
              "          if (!dataTable) return;\n",
              "\n",
              "          const docLinkHtml = 'Like what you see? Visit the ' +\n",
              "            '<a target=\"_blank\" href=https://colab.research.google.com/notebooks/data_table.ipynb>data table notebook</a>'\n",
              "            + ' to learn more about interactive tables.';\n",
              "          element.innerHTML = '';\n",
              "          dataTable['output_type'] = 'display_data';\n",
              "          await google.colab.output.renderOutput(dataTable, element);\n",
              "          const docLink = document.createElement('div');\n",
              "          docLink.innerHTML = docLinkHtml;\n",
              "          element.appendChild(docLink);\n",
              "        }\n",
              "      </script>\n",
              "    </div>\n",
              "  </div>\n",
              "  "
            ]
          },
          "metadata": {},
          "execution_count": 30
        }
      ],
      "source": [
        "toys\n",
        "\n",
        "#toys_date = toys\n",
        "toys['created'] = toys['created'].str[:-13]\n",
        "toys\n",
        "\n",
        "\n",
        "toys.style.format({\"created\": lambda t: t.strftime(\"%Y/%m/%d %:h:%m:s\")})\n",
        "toys.head(5)\n",
        "\n",
        "\n",
        "# Using DataFrame.style.format() and lambda function\n",
        "#df.style.format({\"InsertedDate\": lambda t: t.strftime(\"%m/%d/%Y\")})\n",
        "#print(df)\n",
        "# Convert datetime to string/object\n",
        "#toys['ConvertedDate']=toys['created'].astype(str)\n",
        "#toys.head(5)\n",
        "\n"
      ]
    },
    {
      "cell_type": "markdown",
      "source": [
        "### Distribution of toys on time\n",
        "\n",
        ">default slice is 1000 pieces\n",
        "\n"
      ],
      "metadata": {
        "id": "vDsLteLRhRo2"
      }
    },
    {
      "cell_type": "code",
      "execution_count": null,
      "metadata": {
        "colab": {
          "base_uri": "https://localhost:8080/"
        },
        "id": "J_r5pLiIYUju",
        "outputId": "040a3d11-5063-43ea-f20d-0f496565f250"
      },
      "outputs": [
        {
          "output_type": "stream",
          "name": "stderr",
          "text": [
            "/usr/local/lib/python3.7/dist-packages/seaborn/_decorators.py:43: FutureWarning: Pass the following variables as keyword args: x, y. From version 0.12, the only valid positional argument will be `data`, and passing other arguments without an explicit keyword will result in an error or misinterpretation.\n",
            "  FutureWarning\n"
          ]
        }
      ],
      "source": [
        "toys10 = toys[:10000]\n",
        "\n",
        "plt.style.use('seaborn-colorblind')\n",
        "\n",
        "plt.figure(figsize=(20,10))\n",
        "sns.swarmplot('created', 'toy_id', data=toys10);\n",
        "plt.show()\n"
      ]
    },
    {
      "cell_type": "markdown",
      "source": [
        "### Distribution of toys on time and users\n",
        "default slice is 1000 pieces"
      ],
      "metadata": {
        "id": "pMRfRVPKhk8H"
      }
    },
    {
      "cell_type": "code",
      "execution_count": 43,
      "metadata": {
        "id": "H281dpP-WvtU",
        "colab": {
          "base_uri": "https://localhost:8080/",
          "height": 657
        },
        "outputId": "87da7e20-086e-42c8-9db9-b2fd2935c1ba"
      },
      "outputs": [
        {
          "output_type": "stream",
          "name": "stderr",
          "text": [
            "/usr/local/lib/python3.7/dist-packages/seaborn/_decorators.py:43: FutureWarning: Pass the following variables as keyword args: x, y. From version 0.12, the only valid positional argument will be `data`, and passing other arguments without an explicit keyword will result in an error or misinterpretation.\n",
            "  FutureWarning\n"
          ]
        },
        {
          "output_type": "display_data",
          "data": {
            "text/plain": [
              "<Figure size 1440x720 with 1 Axes>"
            ],
            "image/png": "[encoded data removed]"
          },
          "metadata": {
            "needs_background": "light"
          }
        }
      ],
      "source": [
        "toys10 = toys[:1000]\n",
        "plt.figure(figsize=(20,10))\n",
        "sns.scatterplot(toys10['created'], toys10['user_id'])\n",
        "plt.show()\n",
        "\n",
        "#df['ConvertedDate']=df['DateTypeCol'].astype(str)\n",
        "#print(df)"
      ]
    },
    {
      "cell_type": "code",
      "execution_count": 6,
      "metadata": {
        "colab": {
          "base_uri": "https://localhost:8080/",
          "height": 238
        },
        "id": "KUjuThS8svgh",
        "outputId": "ae9af05d-38d5-422f-8f15-56d8413c0c7f"
      },
      "outputs": [
        {
          "output_type": "execute_result",
          "data": {
            "text/plain": [
              "                              last_login  username            email  \\\n",
              "id                                                                    \n",
              "439995  2022-05-05 07:23:37.935731+00:00  username     email@qq.com   \n",
              "451950  2022-05-10 06:50:13.455517+00:00  username  email@gmail.com   \n",
              "448606  2022-05-06 08:01:51.080744+00:00  username  email@gmail.com   \n",
              "449326  2022-05-08 14:39:32.881578+00:00  username  email@gmail.com   \n",
              "451661  2022-05-07 18:28:30.922070+00:00  username  email@gmail.com   \n",
              "\n",
              "                             date_joined country  coins_spent  bought_toys  \\\n",
              "id                                                                           \n",
              "439995  2022-05-05 04:28:23.070000+00:00      CN           50            2   \n",
              "451950  2022-05-06 17:27:02.408000+00:00      TH           25            1   \n",
              "448606  2022-05-06 08:01:01.001000+00:00      NG           75            3   \n",
              "449326  2022-05-06 09:46:56.794000+00:00     NaN            0            0   \n",
              "451661  2022-05-06 15:44:30.896000+00:00      KZ            0            0   \n",
              "\n",
              "        total_toys  gifted_toys  bonus_coins  \n",
              "id                                            \n",
              "439995           9            0           45  \n",
              "451950           6            0           20  \n",
              "448606           8            0          105  \n",
              "449326           4            0           10  \n",
              "451661           5            0           10  "
            ],
            "text/html": [
              "\n",
              "  <div id=\"df-993c8f54-68c1-4229-a3ff-a0ad4596a47c\">\n",
              "    <div class=\"colab-df-container\">\n",
              "      <div>\n",
              "<style scoped>\n",
              "    .dataframe tbody tr th:only-of-type {\n",
              "        vertical-align: middle;\n",
              "    }\n",
              "\n",
              "    .dataframe tbody tr th {\n",
              "        vertical-align: top;\n",
              "    }\n",
              "\n",
              "    .dataframe thead th {\n",
              "        text-align: right;\n",
              "    }\n",
              "</style>\n",
              "<table border=\"1\" class=\"dataframe\">\n",
              "  <thead>\n",
              "    <tr style=\"text-align: right;\">\n",
              "      <th></th>\n",
              "      <th>last_login</th>\n",
              "      <th>username</th>\n",
              "      <th>email</th>\n",
              "      <th>date_joined</th>\n",
              "      <th>country</th>\n",
              "      <th>coins_spent</th>\n",
              "      <th>bought_toys</th>\n",
              "      <th>total_toys</th>\n",
              "      <th>gifted_toys</th>\n",
              "      <th>bonus_coins</th>\n",
              "    </tr>\n",
              "    <tr>\n",
              "      <th>id</th>\n",
              "      <th></th>\n",
              "      <th></th>\n",
              "      <th></th>\n",
              "      <th></th>\n",
              "      <th></th>\n",
              "      <th></th>\n",
              "      <th></th>\n",
              "      <th></th>\n",
              "      <th></th>\n",
              "      <th></th>\n",
              "    </tr>\n",
              "  </thead>\n",
              "  <tbody>\n",
              "    <tr>\n",
              "      <th>439995</th>\n",
              "      <td>2022-05-05 07:23:37.935731+00:00</td>\n",
              "      <td>username</td>\n",
              "      <td>email@qq.com</td>\n",
              "      <td>2022-05-05 04:28:23.070000+00:00</td>\n",
              "      <td>CN</td>\n",
              "      <td>50</td>\n",
              "      <td>2</td>\n",
              "      <td>9</td>\n",
              "      <td>0</td>\n",
              "      <td>45</td>\n",
              "    </tr>\n",
              "    <tr>\n",
              "      <th>451950</th>\n",
              "      <td>2022-05-10 06:50:13.455517+00:00</td>\n",
              "      <td>username</td>\n",
              "      <td>email@gmail.com</td>\n",
              "      <td>2022-05-06 17:27:02.408000+00:00</td>\n",
              "      <td>TH</td>\n",
              "      <td>25</td>\n",
              "      <td>1</td>\n",
              "      <td>6</td>\n",
              "      <td>0</td>\n",
              "      <td>20</td>\n",
              "    </tr>\n",
              "    <tr>\n",
              "      <th>448606</th>\n",
              "      <td>2022-05-06 08:01:51.080744+00:00</td>\n",
              "      <td>username</td>\n",
              "      <td>email@gmail.com</td>\n",
              "      <td>2022-05-06 08:01:01.001000+00:00</td>\n",
              "      <td>NG</td>\n",
              "      <td>75</td>\n",
              "      <td>3</td>\n",
              "      <td>8</td>\n",
              "      <td>0</td>\n",
              "      <td>105</td>\n",
              "    </tr>\n",
              "    <tr>\n",
              "      <th>449326</th>\n",
              "      <td>2022-05-08 14:39:32.881578+00:00</td>\n",
              "      <td>username</td>\n",
              "      <td>email@gmail.com</td>\n",
              "      <td>2022-05-06 09:46:56.794000+00:00</td>\n",
              "      <td>NaN</td>\n",
              "      <td>0</td>\n",
              "      <td>0</td>\n",
              "      <td>4</td>\n",
              "      <td>0</td>\n",
              "      <td>10</td>\n",
              "    </tr>\n",
              "    <tr>\n",
              "      <th>451661</th>\n",
              "      <td>2022-05-07 18:28:30.922070+00:00</td>\n",
              "      <td>username</td>\n",
              "      <td>email@gmail.com</td>\n",
              "      <td>2022-05-06 15:44:30.896000+00:00</td>\n",
              "      <td>KZ</td>\n",
              "      <td>0</td>\n",
              "      <td>0</td>\n",
              "      <td>5</td>\n",
              "      <td>0</td>\n",
              "      <td>10</td>\n",
              "    </tr>\n",
              "  </tbody>\n",
              "</table>\n",
              "</div>\n",
              "      <button class=\"colab-df-convert\" onclick=\"convertToInteractive('df-993c8f54-68c1-4229-a3ff-a0ad4596a47c')\"\n",
              "              title=\"Convert this dataframe to an interactive table.\"\n",
              "              style=\"display:none;\">\n",
              "        \n",
              "  <svg xmlns=\"http://www.w3.org/2000/svg\" height=\"24px\"viewBox=\"0 0 24 24\"\n",
              "       width=\"24px\">\n",
              "    <path d=\"M0 0h24v24H0V0z\" fill=\"none\"/>\n",
              "    <path d=\"M18.56 5.44l.94 2.06.94-2.06 2.06-.94-2.06-.94-.94-2.06-.94 2.06-2.06.94zm-11 1L8.5 8.5l.94-2.06 2.06-.94-2.06-.94L8.5 2.5l-.94 2.06-2.06.94zm10 10l.94 2.06.94-2.06 2.06-.94-2.06-.94-.94-2.06-.94 2.06-2.06.94z\"/><path d=\"M17.41 7.96l-1.37-1.37c-.4-.4-.92-.59-1.43-.59-.52 0-1.04.2-1.43.59L10.3 9.45l-7.72 7.72c-.78.78-.78 2.05 0 2.83L4 21.41c.39.39.9.59 1.41.59.51 0 1.02-.2 1.41-.59l7.78-7.78 2.81-2.81c.8-.78.8-2.07 0-2.86zM5.41 20L4 18.59l7.72-7.72 1.47 1.35L5.41 20z\"/>\n",
              "  </svg>\n",
              "      </button>\n",
              "      \n",
              "  <style>\n",
              "    .colab-df-container {\n",
              "      display:flex;\n",
              "      flex-wrap:wrap;\n",
              "      gap: 12px;\n",
              "    }\n",
              "\n",
              "    .colab-df-convert {\n",
              "      background-color: #E8F0FE;\n",
              "      border: none;\n",
              "      border-radius: 50%;\n",
              "      cursor: pointer;\n",
              "      display: none;\n",
              "      fill: #1967D2;\n",
              "      height: 32px;\n",
              "      padding: 0 0 0 0;\n",
              "      width: 32px;\n",
              "    }\n",
              "\n",
              "    .colab-df-convert:hover {\n",
              "      background-color: #E2EBFA;\n",
              "      box-shadow: 0px 1px 2px rgba(60, 64, 67, 0.3), 0px 1px 3px 1px rgba(60, 64, 67, 0.15);\n",
              "      fill: #174EA6;\n",
              "    }\n",
              "\n",
              "    [theme=dark] .colab-df-convert {\n",
              "      background-color: #3B4455;\n",
              "      fill: #D2E3FC;\n",
              "    }\n",
              "\n",
              "    [theme=dark] .colab-df-convert:hover {\n",
              "      background-color: #434B5C;\n",
              "      box-shadow: 0px 1px 3px 1px rgba(0, 0, 0, 0.15);\n",
              "      filter: drop-shadow(0px 1px 2px rgba(0, 0, 0, 0.3));\n",
              "      fill: #FFFFFF;\n",
              "    }\n",
              "  </style>\n",
              "\n",
              "      <script>\n",
              "        const buttonEl =\n",
              "          document.querySelector('#df-993c8f54-68c1-4229-a3ff-a0ad4596a47c button.colab-df-convert');\n",
              "        buttonEl.style.display =\n",
              "          google.colab.kernel.accessAllowed ? 'block' : 'none';\n",
              "\n",
              "        async function convertToInteractive(key) {\n",
              "          const element = document.querySelector('#df-993c8f54-68c1-4229-a3ff-a0ad4596a47c');\n",
              "          const dataTable =\n",
              "            await google.colab.kernel.invokeFunction('convertToInteractive',\n",
              "                                                     [key], {});\n",
              "          if (!dataTable) return;\n",
              "\n",
              "          const docLinkHtml = 'Like what you see? Visit the ' +\n",
              "            '<a target=\"_blank\" href=https://colab.research.google.com/notebooks/data_table.ipynb>data table notebook</a>'\n",
              "            + ' to learn more about interactive tables.';\n",
              "          element.innerHTML = '';\n",
              "          dataTable['output_type'] = 'display_data';\n",
              "          await google.colab.output.renderOutput(dataTable, element);\n",
              "          const docLink = document.createElement('div');\n",
              "          docLink.innerHTML = docLinkHtml;\n",
              "          element.appendChild(docLink);\n",
              "        }\n",
              "      </script>\n",
              "    </div>\n",
              "  </div>\n",
              "  "
            ]
          },
          "metadata": {},
          "execution_count": 6
        }
      ],
      "source": [
        "users.head(5)"
      ]
    },
    {
      "cell_type": "markdown",
      "metadata": {
        "id": "0NCaNbbd_-_O"
      },
      "source": [
        "##### Шпаргалка\n",
        "###в users \n",
        "  емейлах оставлена доменная часть\n",
        "\n",
        "у юзеров - ласт логин может быть 200 лет тому назад - сессии висят долго, datejoined - время регистрации\n",
        "\n",
        "country они выбирают САМИ (мы не проставляем) поэтому инфа может быть не совсем честная, т.е. доверия к ней не много\n",
        "\n",
        "### в toys\n",
        " id, уникальный ID игрушки (как сущности, как отдельной единицы) (порядковый номер, условно ключ)\n",
        "\n",
        "pcs - номер игрушки из коллекции отдельной игрушки (условно - было 100 игрушек создано, и вот человек собрал 99ую игрушку, это и будет число pcs)\n",
        "\n",
        "created - время сбора\n",
        "\n",
        "coints payed - если человек купил игрушку за монетки, а не собрал\n",
        "\n",
        "is_gift - подарили ли ему игрушку (также туда попадают игрушки собранные по ОДНОРАЗОВОМУ КОДУ)"
      ]
    },
    {
      "cell_type": "markdown",
      "source": [
        "### Types of valuents\n",
        "### Unique values of datasets"
      ],
      "metadata": {
        "id": "pEuvEuEPjWWb"
      }
    },
    {
      "cell_type": "code",
      "execution_count": null,
      "metadata": {
        "id": "HolHL5Fh9ION"
      },
      "outputs": [],
      "source": [
        "\n",
        "print (\"Датасет игрушек, типы переменных :\",toys.dtypes)\n",
        "#print(\"Датасет игрушек, срез: \", toys.head())\n",
        "print (\"Датасет игрушек, инфо: \", toys.info)\n",
        "\n",
        "print (\"Датасет пользователи, типы переменных :\",users.dtypes)\n",
        "#print(\"Датасет пользователи, срез: \",users.head())\n",
        "print (\"Датасет пользователи, инфо: \", users.info)\n",
        "\n",
        "print(\"Уникальные значения в DF toys: \")\n",
        "print (toys.nunique())\n",
        "print(\"Уникальные значения в DF users: \")\n",
        "print (users.nunique())\n",
        "#print(\"Уникальные значения toy_id в toys: \")\n",
        "#toys.toy_id.unique()"
      ]
    },
    {
      "cell_type": "code",
      "execution_count": 8,
      "metadata": {
        "id": "t20AJN2V5fEX"
      },
      "outputs": [],
      "source": [
        "def my_basic_research_toys(df=\"args\", column = toys.columns [3:5]):\n",
        "#def my_basic_research(df=\"args\", column = toy_columns):\n",
        "    print(\"Базовые метрики\")\n",
        "    print(df[column].describe())\n",
        "    print(\"------------------------------------\")\n",
        "    \n",
        "    print(\"Самые популярные значения метрики, топ 10\")\n",
        "    print(df[column].value_counts().nlargest(10))\n",
        "    print(\"------------------------------------\")\n",
        "    \n",
        "    print(\"Эксцесс \", kurtosis(df[column]))\n",
        "    print(\"Ассиметрия \", skew(df[column]))\n",
        "    \n",
        "    #sns.distplot(df[column])\n",
        "    #plt.title(\"Распределение прибыли по пользователям\")\n",
        "\n",
        "def my_basic_research_users(df=\"args\", column = users.columns [6::]):\n",
        "#def my_basic_research(df=\"args\", column = toy_columns):\n",
        "    print(\"Базовые метрики\")\n",
        "    print(df[column].describe())\n",
        "    print(\"------------------------------------\")\n",
        "    \n",
        "    print(\"Самые популярные значения метрики, топ 5\")\n",
        "    print(df[column].value_counts().nlargest(10))\n",
        "    print(\"------------------------------------\")\n",
        "    \n",
        "    print(\"Эксцесс \", kurtosis(df[column]))\n",
        "    print(\"Ассиметрия \", skew(df[column]))\n",
        "    \n",
        "    #sns.distplot(df[column])\n",
        "    #plt.title(\"Распределение прибыли по пользователям\")\n"
      ]
    },
    {
      "cell_type": "markdown",
      "source": [
        ""
      ],
      "metadata": {
        "id": "zhkts6Kpom5s"
      }
    },
    {
      "cell_type": "code",
      "execution_count": 9,
      "metadata": {
        "colab": {
          "base_uri": "https://localhost:8080/"
        },
        "id": "h8E2eP22FkID",
        "outputId": "d0641033-29bb-4403-90eb-e71bd0d64484"
      },
      "outputs": [
        {
          "output_type": "stream",
          "name": "stdout",
          "text": [
            "Базовые метрики\n",
            "             user_id    coins_payed\n",
            "count  251736.000000  251736.000000\n",
            "mean   269314.495324       0.948315\n",
            "std    124568.090807       4.775841\n",
            "min         1.000000       0.000000\n",
            "25%    171634.000000       0.000000\n",
            "50%    281483.000000       0.000000\n",
            "75%    381179.250000       0.000000\n",
            "max    446467.000000      25.000000\n",
            "------------------------------------\n",
            "Самые популярные значения метрики, топ 10\n",
            "user_id  coins_payed\n",
            "424347   25             33\n",
            "424499   25             33\n",
            "442452   25             32\n",
            "441501   25             32\n",
            "442174   25             30\n",
            "429983   25             26\n",
            "11090    25             23\n",
            "434864   25             22\n",
            "440419   25             21\n",
            "430922   25             15\n",
            "dtype: int64\n",
            "------------------------------------\n",
            "Эксцесс  [-0.97266545 21.40197926]\n",
            "Ассиметрия  [-0.35601667  4.83755923]\n"
          ]
        }
      ],
      "source": [
        "my_basic_research_toys(toys)"
      ]
    },
    {
      "cell_type": "code",
      "execution_count": 10,
      "metadata": {
        "colab": {
          "base_uri": "https://localhost:8080/"
        },
        "id": "ou0yo-nh7I44",
        "outputId": "57627dde-c414-4b1c-a9df-043b134c749a"
      },
      "outputs": [
        {
          "output_type": "stream",
          "name": "stdout",
          "text": [
            "Базовые метрики\n",
            "         bought_toys     total_toys    gifted_toys    bonus_coins\n",
            "count  143305.000000  143305.000000  143305.000000  143305.000000\n",
            "mean        1.006329      33.051185       0.514288      17.812847\n",
            "std         1.960752      35.572437       2.654142      98.783042\n",
            "min         0.000000       0.000000       0.000000       0.000000\n",
            "25%         0.000000       6.000000       0.000000      10.000000\n",
            "50%         0.000000      22.000000       0.000000      10.000000\n",
            "75%         1.000000      49.000000       0.000000      10.000000\n",
            "max       150.000000     449.000000     121.000000   19715.000000\n",
            "------------------------------------\n",
            "Самые популярные значения метрики, топ 5\n",
            "bought_toys  total_toys  gifted_toys  bonus_coins\n",
            "0            0           0            10             7081\n",
            "             1           0            10             6653\n",
            "             2           0            10             6113\n",
            "             4           0            10             3856\n",
            "             5           0            10             3526\n",
            "             6           0            10             3419\n",
            "             3           0            10             3416\n",
            "             7           0            10             2808\n",
            "             8           0            10             2550\n",
            "             9           0            10             2219\n",
            "dtype: int64\n",
            "------------------------------------\n",
            "Эксцесс  [4.96195193e+02 8.96527479e+00 9.50916652e+02 1.43329537e+04]\n",
            "Ассиметрия  [12.29953307  2.13311624 28.65292023 94.42312459]\n"
          ]
        }
      ],
      "source": [
        "my_basic_research_users(users)"
      ]
    },
    {
      "cell_type": "code",
      "execution_count": 11,
      "metadata": {
        "colab": {
          "base_uri": "https://localhost:8080/",
          "height": 312
        },
        "id": "DBKn3-Tp3AAL",
        "outputId": "925eaca2-921a-4c9a-8776-90522e8d6ac0"
      },
      "outputs": [
        {
          "output_type": "display_data",
          "data": {
            "text/plain": [
              "<Figure size 3600x720 with 4 Axes>"
            ],
            "image/png": "[encoded data removed]"
          },
          "metadata": {
            "needs_background": "light"
          }
        }
      ],
      "source": [
        "toys_2 = toys [0:100000]\n",
        "axs = toys_2.plot.area(figsize=(50, 10), subplots=True)"
      ]
    },
    {
      "cell_type": "code",
      "execution_count": 12,
      "metadata": {
        "id": "ePEkmuL9nQ2f",
        "colab": {
          "base_uri": "https://localhost:8080/"
        },
        "outputId": "5039235d-2247-4e34-a5a0-5fa54cd75e8a"
      },
      "outputs": [
        {
          "output_type": "stream",
          "name": "stdout",
          "text": [
            "Пользователи\n",
            "Средняя coins_spent for users =  20.543351592756707\n",
            "Средняя bought_toys for users =  1.0063291580893898\n",
            "Средняя total_toys for users =  33.05118453647814\n",
            "Средняя gifted_toys for users =  0.5142877080353093\n",
            " Средняя bonus_coins for users =  17.81284672551551\n",
            "Игрушки\n",
            "Средняя toy_id for toys =  562.4236541456129\n",
            "Средняя coins_payed for toys =  0.9483149013251978\n"
          ]
        }
      ],
      "source": [
        "print ('Пользователи')\n",
        "print ( \"Средняя coins_spent for users = \",  users[\"coins_spent\"].mean())\n",
        "print( \"Средняя bought_toys for users = \",  users[\"bought_toys\"].mean())\n",
        "print ( \"Средняя total_toys for users = \",  users[\"total_toys\"].mean())\n",
        "print ( \"Средняя gifted_toys for users = \",  users[\"gifted_toys\"].mean())\n",
        "print ( \" Средняя bonus_coins for users = \",  users[\"bonus_coins\"].mean())\n",
        "print ('Игрушки')\n",
        "print ( \"Средняя toy_id for toys = \",  toys[\"toy_id\"].mean())\n",
        "print( \"Средняя coins_payed for toys = \",  toys[\"coins_payed\"].mean())"
      ]
    },
    {
      "cell_type": "code",
      "execution_count": 13,
      "metadata": {
        "id": "9zaDljFqYN4m",
        "colab": {
          "base_uri": "https://localhost:8080/"
        },
        "outputId": "09b129dc-c007-4445-a1b0-47b34363ee19"
      },
      "outputs": [
        {
          "output_type": "stream",
          "name": "stdout",
          "text": [
            "Пользователи\n",
            "Медиана coins_spent for users =  0.0\n",
            "Медиана bought_toys for users =  0.0\n",
            "Медиана total_toys for users =  22.0\n",
            "Медиана gifted_toys for users =  0.0\n",
            " Медиана bonus_coins for users =  10.0\n",
            "Игрушки\n",
            "Медиана toy_id for toys =  563.0\n",
            "Медиана coins_payed for toys =  0.0\n"
          ]
        }
      ],
      "source": [
        "print ('Пользователи')\n",
        "print ( \"Медиана coins_spent for users = \",  users[\"coins_spent\"].median())\n",
        "print( \"Медиана bought_toys for users = \",  users[\"bought_toys\"].median())\n",
        "print ( \"Медиана total_toys for users = \",  users[\"total_toys\"].median())\n",
        "print ( \"Медиана gifted_toys for users = \",  users[\"gifted_toys\"].median())\n",
        "print ( \" Медиана bonus_coins for users = \",  users[\"bonus_coins\"].median())\n",
        "print ('Игрушки')\n",
        "print ( \"Медиана toy_id for toys = \",  toys[\"toy_id\"].median())\n",
        "print( \"Медиана coins_payed for toys = \",  toys[\"coins_payed\"].median())\n"
      ]
    },
    {
      "cell_type": "code",
      "execution_count": null,
      "metadata": {
        "id": "zd2KGGzGxUwJ"
      },
      "outputs": [],
      "source": [
        "#toys.id.means()\n",
        "plt.figure(figsize=(20,10))\n",
        "sns.distplot(toys[\"pcs\", \"user_id\"])\n"
      ]
    },
    {
      "cell_type": "code",
      "execution_count": 40,
      "metadata": {
        "id": "BAP5h3hsuxRH",
        "colab": {
          "base_uri": "https://localhost:8080/",
          "height": 674
        },
        "outputId": "38346fc6-1ad3-421d-8065-65076e7f2e4a"
      },
      "outputs": [
        {
          "output_type": "stream",
          "name": "stderr",
          "text": [
            "/usr/local/lib/python3.7/dist-packages/seaborn/distributions.py:2619: FutureWarning: `distplot` is a deprecated function and will be removed in a future version. Please adapt your code to use either `displot` (a figure-level function with similar flexibility) or `histplot` (an axes-level function for histograms).\n",
            "  warnings.warn(msg, FutureWarning)\n"
          ]
        },
        {
          "output_type": "execute_result",
          "data": {
            "text/plain": [
              "<matplotlib.axes._subplots.AxesSubplot at 0x7f471169c890>"
            ]
          },
          "metadata": {},
          "execution_count": 40
        },
        {
          "output_type": "display_data",
          "data": {
            "text/plain": [
              "<Figure size 1440x720 with 1 Axes>"
            ],
            "image/png": "[encoded data removed]"
          },
          "metadata": {
            "needs_background": "light"
          }
        }
      ],
      "source": [
        "plt.figure(figsize=(20,10))\n",
        "sns.distplot(toys[\"toy_id\"])"
      ]
    },
    {
      "cell_type": "code",
      "execution_count": 41,
      "metadata": {
        "id": "YMIFxuTKme1L",
        "colab": {
          "base_uri": "https://localhost:8080/",
          "height": 674
        },
        "outputId": "9596faca-6e8f-4307-f266-b8e8a5085721"
      },
      "outputs": [
        {
          "output_type": "stream",
          "name": "stderr",
          "text": [
            "/usr/local/lib/python3.7/dist-packages/seaborn/distributions.py:2619: FutureWarning: `distplot` is a deprecated function and will be removed in a future version. Please adapt your code to use either `displot` (a figure-level function with similar flexibility) or `histplot` (an axes-level function for histograms).\n",
            "  warnings.warn(msg, FutureWarning)\n"
          ]
        },
        {
          "output_type": "execute_result",
          "data": {
            "text/plain": [
              "<matplotlib.axes._subplots.AxesSubplot at 0x7f47117a9e90>"
            ]
          },
          "metadata": {},
          "execution_count": 41
        },
        {
          "output_type": "display_data",
          "data": {
            "text/plain": [
              "<Figure size 1440x720 with 1 Axes>"
            ],
            "image/png": "[encoded data removed]"
          },
          "metadata": {
            "needs_background": "light"
          }
        }
      ],
      "source": [
        "plt.figure(figsize=(20,10))\n",
        "sns.distplot(toys[\"coins_payed\"])"
      ]
    },
    {
      "cell_type": "code",
      "execution_count": 42,
      "metadata": {
        "id": "LU6vJqZ0vTXh",
        "colab": {
          "base_uri": "https://localhost:8080/",
          "height": 674
        },
        "outputId": "90613151-e295-4781-c738-e87fc9c20681"
      },
      "outputs": [
        {
          "output_type": "stream",
          "name": "stderr",
          "text": [
            "/usr/local/lib/python3.7/dist-packages/seaborn/distributions.py:2619: FutureWarning: `distplot` is a deprecated function and will be removed in a future version. Please adapt your code to use either `displot` (a figure-level function with similar flexibility) or `histplot` (an axes-level function for histograms).\n",
            "  warnings.warn(msg, FutureWarning)\n"
          ]
        },
        {
          "output_type": "execute_result",
          "data": {
            "text/plain": [
              "<matplotlib.axes._subplots.AxesSubplot at 0x7f4710ae9ed0>"
            ]
          },
          "metadata": {},
          "execution_count": 42
        },
        {
          "output_type": "display_data",
          "data": {
            "text/plain": [
              "<Figure size 1440x720 with 1 Axes>"
            ],
            "image/png": "[encoded data removed]"
          },
          "metadata": {
            "needs_background": "light"
          }
        }
      ],
      "source": [
        "plt.figure(figsize=(20,10))\n",
        "sns.distplot(users[\"total_toys\"])"
      ]
    },
    {
      "cell_type": "code",
      "execution_count": 18,
      "metadata": {
        "id": "XUR0Hdum6A2v",
        "colab": {
          "base_uri": "https://localhost:8080/",
          "height": 727
        },
        "outputId": "18a8c9ad-35f4-4d52-db9d-fd9432fa482d"
      },
      "outputs": [
        {
          "output_type": "stream",
          "name": "stdout",
          "text": [
            "Index(['pcs', 'created', 'toy_id', 'user_id', 'coins_payed', 'is_gift'], dtype='object')\n"
          ]
        },
        {
          "output_type": "display_data",
          "data": {
            "text/plain": [
              "<Figure size 720x720 with 1 Axes>"
            ],
            "image/png": "[encoded data removed]"
          },
          "metadata": {
            "needs_background": "light"
          }
        },
        {
          "output_type": "stream",
          "name": "stdout",
          "text": [
            "           pcs              created  toy_id  user_id  coins_payed  is_gift\n",
            "id                                                                        \n",
            "5942611  22900  2022-05-02 00:04:47     557   207371            0    False\n",
            "5942579  22893  2022-05-02 00:00:08     557   161333            0    False\n",
            "5942580  58791  2022-05-02 00:00:16     556   425707            0    False\n",
            "5942581  46376  2022-05-02 00:00:22     343   332362           25    False\n",
            "5942582  58792  2022-05-02 00:00:38     556   337092            0    False\n"
          ]
        }
      ],
      "source": [
        " fig = plt.figure(figsize=(10, 10)) # создаем картинку\n",
        "ax = plt.axes()\n",
        "\n",
        "# помещаем точки на график\n",
        "ax.scatter(toys[\"toy_id\"], toys[\"pcs\"], s=100)\n",
        "print(toys.columns)\n",
        "# отображаем картинку\n",
        "plt.show()\n",
        "\n",
        "print (toys.head())"
      ]
    },
    {
      "cell_type": "code",
      "execution_count": 19,
      "metadata": {
        "id": "FBXtgl9s8gL3",
        "colab": {
          "base_uri": "https://localhost:8080/"
        },
        "outputId": "c07f94e9-4894-43b0-9d0b-85d71f913169"
      },
      "outputs": [
        {
          "output_type": "stream",
          "name": "stdout",
          "text": [
            "[557 556 343 318 480 558 363 358 325 360 271 407 362 324 370 536 359 364\n",
            " 560 383 546 330 334 433 488 473 457 391 357 361 352 492 335 351 502 524\n",
            " 398 475 530 569 573 371 575 577 576 570 571 544 563 565 562 579 582 578]\n",
            "Количество уникальных игрушек (dataset - toys):  54\n",
            "Количество уникальных пользователей (dataset - toys) :  113841\n"
          ]
        }
      ],
      "source": [
        "#sns.color_palette('husl', 7)\n",
        "print(pd.unique (toys[\"toy_id\"]))\n",
        "print (\"Количество уникальных игрушек (dataset - toys): \", len(pd.unique (toys[\"toy_id\"]) ))\n",
        "print(\"Количество уникальных пользователей (dataset - toys) : \" , len(pd.unique (toys[\"user_id\"])))"
      ]
    },
    {
      "cell_type": "code",
      "execution_count": 20,
      "metadata": {
        "id": "y1Qo18qq4nyG",
        "colab": {
          "base_uri": "https://localhost:8080/",
          "height": 455
        },
        "outputId": "ae53d046-ed28-477b-c4b7-7a75867f38b2"
      },
      "outputs": [
        {
          "output_type": "execute_result",
          "data": {
            "text/plain": [
              "                              last_login  username            email  \\\n",
              "id                                                                    \n",
              "439995  2022-05-05 07:23:37.935731+00:00  username     email@qq.com   \n",
              "451950  2022-05-10 06:50:13.455517+00:00  username  email@gmail.com   \n",
              "448606  2022-05-06 08:01:51.080744+00:00  username  email@gmail.com   \n",
              "449326  2022-05-08 14:39:32.881578+00:00  username  email@gmail.com   \n",
              "451661  2022-05-07 18:28:30.922070+00:00  username  email@gmail.com   \n",
              "...                                  ...       ...              ...   \n",
              "426771  2022-05-02 09:55:38.275978+00:00  username  email@gmail.com   \n",
              "426908  2022-05-02 11:14:36.032416+00:00  username  email@gmail.com   \n",
              "430966  2022-05-03 10:54:00.464049+00:00  username  email@gmail.com   \n",
              "451990  2022-05-06 17:41:14.817023+00:00  username  email@gmail.com   \n",
              "454478  2022-05-07 07:59:19.367557+00:00  username  email@gmail.com   \n",
              "\n",
              "                             date_joined country  coins_spent  bought_toys  \\\n",
              "id                                                                           \n",
              "439995  2022-05-05 04:28:23.070000+00:00      CN           50            2   \n",
              "451950  2022-05-06 17:27:02.408000+00:00      TH           25            1   \n",
              "448606  2022-05-06 08:01:01.001000+00:00      NG           75            3   \n",
              "449326  2022-05-06 09:46:56.794000+00:00     NaN            0            0   \n",
              "451661  2022-05-06 15:44:30.896000+00:00      KZ            0            0   \n",
              "...                                  ...     ...          ...          ...   \n",
              "426771  2022-04-24 08:22:42.637000+00:00      NL            0            0   \n",
              "426908  2022-04-25 01:29:54.622000+00:00      MV            0            0   \n",
              "430966  2022-04-03 08:00:47.339000+00:00     NaN            0            0   \n",
              "451990  2022-04-13 08:28:16.707000+00:00      NG            0            0   \n",
              "454478  2022-04-14 04:12:39.816000+00:00      CN            0            0   \n",
              "\n",
              "        total_toys  gifted_toys  bonus_coins  \n",
              "id                                            \n",
              "439995           9            0           45  \n",
              "451950           6            0           20  \n",
              "448606           8            0          105  \n",
              "449326           4            0           10  \n",
              "451661           5            0           10  \n",
              "...            ...          ...          ...  \n",
              "426771           7            0           10  \n",
              "426908           6            0           10  \n",
              "430966           2            0           10  \n",
              "451990           1            0           10  \n",
              "454478           4            0           10  \n",
              "\n",
              "[143305 rows x 10 columns]"
            ],
            "text/html": [
              "\n",
              "  <div id=\"df-90df4bb4-dd1b-415b-8f55-16151c70d1c7\">\n",
              "    <div class=\"colab-df-container\">\n",
              "      <div>\n",
              "<style scoped>\n",
              "    .dataframe tbody tr th:only-of-type {\n",
              "        vertical-align: middle;\n",
              "    }\n",
              "\n",
              "    .dataframe tbody tr th {\n",
              "        vertical-align: top;\n",
              "    }\n",
              "\n",
              "    .dataframe thead th {\n",
              "        text-align: right;\n",
              "    }\n",
              "</style>\n",
              "<table border=\"1\" class=\"dataframe\">\n",
              "  <thead>\n",
              "    <tr style=\"text-align: right;\">\n",
              "      <th></th>\n",
              "      <th>last_login</th>\n",
              "      <th>username</th>\n",
              "      <th>email</th>\n",
              "      <th>date_joined</th>\n",
              "      <th>country</th>\n",
              "      <th>coins_spent</th>\n",
              "      <th>bought_toys</th>\n",
              "      <th>total_toys</th>\n",
              "      <th>gifted_toys</th>\n",
              "      <th>bonus_coins</th>\n",
              "    </tr>\n",
              "    <tr>\n",
              "      <th>id</th>\n",
              "      <th></th>\n",
              "      <th></th>\n",
              "      <th></th>\n",
              "      <th></th>\n",
              "      <th></th>\n",
              "      <th></th>\n",
              "      <th></th>\n",
              "      <th></th>\n",
              "      <th></th>\n",
              "      <th></th>\n",
              "    </tr>\n",
              "  </thead>\n",
              "  <tbody>\n",
              "    <tr>\n",
              "      <th>439995</th>\n",
              "      <td>2022-05-05 07:23:37.935731+00:00</td>\n",
              "      <td>username</td>\n",
              "      <td>email@qq.com</td>\n",
              "      <td>2022-05-05 04:28:23.070000+00:00</td>\n",
              "      <td>CN</td>\n",
              "      <td>50</td>\n",
              "      <td>2</td>\n",
              "      <td>9</td>\n",
              "      <td>0</td>\n",
              "      <td>45</td>\n",
              "    </tr>\n",
              "    <tr>\n",
              "      <th>451950</th>\n",
              "      <td>2022-05-10 06:50:13.455517+00:00</td>\n",
              "      <td>username</td>\n",
              "      <td>email@gmail.com</td>\n",
              "      <td>2022-05-06 17:27:02.408000+00:00</td>\n",
              "      <td>TH</td>\n",
              "      <td>25</td>\n",
              "      <td>1</td>\n",
              "      <td>6</td>\n",
              "      <td>0</td>\n",
              "      <td>20</td>\n",
              "    </tr>\n",
              "    <tr>\n",
              "      <th>448606</th>\n",
              "      <td>2022-05-06 08:01:51.080744+00:00</td>\n",
              "      <td>username</td>\n",
              "      <td>email@gmail.com</td>\n",
              "      <td>2022-05-06 08:01:01.001000+00:00</td>\n",
              "      <td>NG</td>\n",
              "      <td>75</td>\n",
              "      <td>3</td>\n",
              "      <td>8</td>\n",
              "      <td>0</td>\n",
              "      <td>105</td>\n",
              "    </tr>\n",
              "    <tr>\n",
              "      <th>449326</th>\n",
              "      <td>2022-05-08 14:39:32.881578+00:00</td>\n",
              "      <td>username</td>\n",
              "      <td>email@gmail.com</td>\n",
              "      <td>2022-05-06 09:46:56.794000+00:00</td>\n",
              "      <td>NaN</td>\n",
              "      <td>0</td>\n",
              "      <td>0</td>\n",
              "      <td>4</td>\n",
              "      <td>0</td>\n",
              "      <td>10</td>\n",
              "    </tr>\n",
              "    <tr>\n",
              "      <th>451661</th>\n",
              "      <td>2022-05-07 18:28:30.922070+00:00</td>\n",
              "      <td>username</td>\n",
              "      <td>email@gmail.com</td>\n",
              "      <td>2022-05-06 15:44:30.896000+00:00</td>\n",
              "      <td>KZ</td>\n",
              "      <td>0</td>\n",
              "      <td>0</td>\n",
              "      <td>5</td>\n",
              "      <td>0</td>\n",
              "      <td>10</td>\n",
              "    </tr>\n",
              "    <tr>\n",
              "      <th>...</th>\n",
              "      <td>...</td>\n",
              "      <td>...</td>\n",
              "      <td>...</td>\n",
              "      <td>...</td>\n",
              "      <td>...</td>\n",
              "      <td>...</td>\n",
              "      <td>...</td>\n",
              "      <td>...</td>\n",
              "      <td>...</td>\n",
              "      <td>...</td>\n",
              "    </tr>\n",
              "    <tr>\n",
              "      <th>426771</th>\n",
              "      <td>2022-05-02 09:55:38.275978+00:00</td>\n",
              "      <td>username</td>\n",
              "      <td>email@gmail.com</td>\n",
              "      <td>2022-04-24 08:22:42.637000+00:00</td>\n",
              "      <td>NL</td>\n",
              "      <td>0</td>\n",
              "      <td>0</td>\n",
              "      <td>7</td>\n",
              "      <td>0</td>\n",
              "      <td>10</td>\n",
              "    </tr>\n",
              "    <tr>\n",
              "      <th>426908</th>\n",
              "      <td>2022-05-02 11:14:36.032416+00:00</td>\n",
              "      <td>username</td>\n",
              "      <td>email@gmail.com</td>\n",
              "      <td>2022-04-25 01:29:54.622000+00:00</td>\n",
              "      <td>MV</td>\n",
              "      <td>0</td>\n",
              "      <td>0</td>\n",
              "      <td>6</td>\n",
              "      <td>0</td>\n",
              "      <td>10</td>\n",
              "    </tr>\n",
              "    <tr>\n",
              "      <th>430966</th>\n",
              "      <td>2022-05-03 10:54:00.464049+00:00</td>\n",
              "      <td>username</td>\n",
              "      <td>email@gmail.com</td>\n",
              "      <td>2022-04-03 08:00:47.339000+00:00</td>\n",
              "      <td>NaN</td>\n",
              "      <td>0</td>\n",
              "      <td>0</td>\n",
              "      <td>2</td>\n",
              "      <td>0</td>\n",
              "      <td>10</td>\n",
              "    </tr>\n",
              "    <tr>\n",
              "      <th>451990</th>\n",
              "      <td>2022-05-06 17:41:14.817023+00:00</td>\n",
              "      <td>username</td>\n",
              "      <td>email@gmail.com</td>\n",
              "      <td>2022-04-13 08:28:16.707000+00:00</td>\n",
              "      <td>NG</td>\n",
              "      <td>0</td>\n",
              "      <td>0</td>\n",
              "      <td>1</td>\n",
              "      <td>0</td>\n",
              "      <td>10</td>\n",
              "    </tr>\n",
              "    <tr>\n",
              "      <th>454478</th>\n",
              "      <td>2022-05-07 07:59:19.367557+00:00</td>\n",
              "      <td>username</td>\n",
              "      <td>email@gmail.com</td>\n",
              "      <td>2022-04-14 04:12:39.816000+00:00</td>\n",
              "      <td>CN</td>\n",
              "      <td>0</td>\n",
              "      <td>0</td>\n",
              "      <td>4</td>\n",
              "      <td>0</td>\n",
              "      <td>10</td>\n",
              "    </tr>\n",
              "  </tbody>\n",
              "</table>\n",
              "<p>143305 rows × 10 columns</p>\n",
              "</div>\n",
              "      <button class=\"colab-df-convert\" onclick=\"convertToInteractive('df-90df4bb4-dd1b-415b-8f55-16151c70d1c7')\"\n",
              "              title=\"Convert this dataframe to an interactive table.\"\n",
              "              style=\"display:none;\">\n",
              "        \n",
              "  <svg xmlns=\"http://www.w3.org/2000/svg\" height=\"24px\"viewBox=\"0 0 24 24\"\n",
              "       width=\"24px\">\n",
              "    <path d=\"M0 0h24v24H0V0z\" fill=\"none\"/>\n",
              "    <path d=\"M18.56 5.44l.94 2.06.94-2.06 2.06-.94-2.06-.94-.94-2.06-.94 2.06-2.06.94zm-11 1L8.5 8.5l.94-2.06 2.06-.94-2.06-.94L8.5 2.5l-.94 2.06-2.06.94zm10 10l.94 2.06.94-2.06 2.06-.94-2.06-.94-.94-2.06-.94 2.06-2.06.94z\"/><path d=\"M17.41 7.96l-1.37-1.37c-.4-.4-.92-.59-1.43-.59-.52 0-1.04.2-1.43.59L10.3 9.45l-7.72 7.72c-.78.78-.78 2.05 0 2.83L4 21.41c.39.39.9.59 1.41.59.51 0 1.02-.2 1.41-.59l7.78-7.78 2.81-2.81c.8-.78.8-2.07 0-2.86zM5.41 20L4 18.59l7.72-7.72 1.47 1.35L5.41 20z\"/>\n",
              "  </svg>\n",
              "      </button>\n",
              "      \n",
              "  <style>\n",
              "    .colab-df-container {\n",
              "      display:flex;\n",
              "      flex-wrap:wrap;\n",
              "      gap: 12px;\n",
              "    }\n",
              "\n",
              "    .colab-df-convert {\n",
              "      background-color: #E8F0FE;\n",
              "      border: none;\n",
              "      border-radius: 50%;\n",
              "      cursor: pointer;\n",
              "      display: none;\n",
              "      fill: #1967D2;\n",
              "      height: 32px;\n",
              "      padding: 0 0 0 0;\n",
              "      width: 32px;\n",
              "    }\n",
              "\n",
              "    .colab-df-convert:hover {\n",
              "      background-color: #E2EBFA;\n",
              "      box-shadow: 0px 1px 2px rgba(60, 64, 67, 0.3), 0px 1px 3px 1px rgba(60, 64, 67, 0.15);\n",
              "      fill: #174EA6;\n",
              "    }\n",
              "\n",
              "    [theme=dark] .colab-df-convert {\n",
              "      background-color: #3B4455;\n",
              "      fill: #D2E3FC;\n",
              "    }\n",
              "\n",
              "    [theme=dark] .colab-df-convert:hover {\n",
              "      background-color: #434B5C;\n",
              "      box-shadow: 0px 1px 3px 1px rgba(0, 0, 0, 0.15);\n",
              "      filter: drop-shadow(0px 1px 2px rgba(0, 0, 0, 0.3));\n",
              "      fill: #FFFFFF;\n",
              "    }\n",
              "  </style>\n",
              "\n",
              "      <script>\n",
              "        const buttonEl =\n",
              "          document.querySelector('#df-90df4bb4-dd1b-415b-8f55-16151c70d1c7 button.colab-df-convert');\n",
              "        buttonEl.style.display =\n",
              "          google.colab.kernel.accessAllowed ? 'block' : 'none';\n",
              "\n",
              "        async function convertToInteractive(key) {\n",
              "          const element = document.querySelector('#df-90df4bb4-dd1b-415b-8f55-16151c70d1c7');\n",
              "          const dataTable =\n",
              "            await google.colab.kernel.invokeFunction('convertToInteractive',\n",
              "                                                     [key], {});\n",
              "          if (!dataTable) return;\n",
              "\n",
              "          const docLinkHtml = 'Like what you see? Visit the ' +\n",
              "            '<a target=\"_blank\" href=https://colab.research.google.com/notebooks/data_table.ipynb>data table notebook</a>'\n",
              "            + ' to learn more about interactive tables.';\n",
              "          element.innerHTML = '';\n",
              "          dataTable['output_type'] = 'display_data';\n",
              "          await google.colab.output.renderOutput(dataTable, element);\n",
              "          const docLink = document.createElement('div');\n",
              "          docLink.innerHTML = docLinkHtml;\n",
              "          element.appendChild(docLink);\n",
              "        }\n",
              "      </script>\n",
              "    </div>\n",
              "  </div>\n",
              "  "
            ]
          },
          "metadata": {},
          "execution_count": 20
        }
      ],
      "source": [
        "users"
      ]
    },
    {
      "cell_type": "code",
      "execution_count": 21,
      "metadata": {
        "id": "-hQrOShyZrci",
        "colab": {
          "base_uri": "https://localhost:8080/"
        },
        "outputId": "563aae22-e80f-4d2c-9dff-be6fbb14b3cc"
      },
      "outputs": [
        {
          "output_type": "execute_result",
          "data": {
            "text/plain": [
              "array(['CN', 'TH', 'NG', nan, 'KZ', 'BR', 'UZ', 'UA', 'ID', 'IT', 'VN',\n",
              "       'CA', 'SG', 'KR', 'US', 'TR', 'PK', 'JP', 'AS', 'IR', 'LT', 'PH',\n",
              "       'AZ', 'BF', 'IN', 'TW', 'PT', 'AF', 'RU', 'NP', 'BY', 'AU', 'ZA',\n",
              "       'GH', 'MY', 'BJ', 'BI', 'MO', 'LA', 'MX', 'AL', 'CZ', 'RW', 'GE',\n",
              "       'HK', 'SE', 'MM', 'CI', 'MR', 'SN', 'GR', 'CM', 'AT', 'PE', 'KE',\n",
              "       'DZ', 'AE', 'CH', 'LI', 'HU', 'WS', 'LR', 'SY', 'IL', 'MD', 'AM',\n",
              "       'LC', 'KI', 'FR', 'AR', 'VC', 'BD', 'LV', 'AG', 'DO', 'BQ', 'AX',\n",
              "       'AW', 'VG', 'EH', 'TG', 'CX', 'IE', 'DE', 'UY', 'ET', 'IM', 'ZM',\n",
              "       'GB', 'MA', 'MW', 'NO', 'KP', 'LU', 'TN', 'YE', 'MT', 'MQ', 'NU',\n",
              "       'HN', 'PR', 'SK', 'SI', 'GP', 'UM', 'EG', 'IQ', 'KG', 'GU', 'ZW',\n",
              "       'SA', 'BB', 'AD', 'AO', 'LK', 'VE', 'LS', 'EC', 'CG', 'AQ', 'LB',\n",
              "       'GM', 'ES', 'PL', 'FI', 'MC', 'CL', 'CY', 'MZ', 'KH', 'BN', 'CF',\n",
              "       'TD', 'KY', 'CO', 'DM', 'DJ', 'AI', 'BS', 'BE', 'CR', 'ER', 'NL',\n",
              "       'UG', 'EE', 'BG', 'DK', 'JO', 'JM', 'CU', 'BW', 'TJ', 'RS', 'NE',\n",
              "       'PA', 'RO', 'ME', 'KW', 'PF', 'RE', 'HR', 'GQ', 'FO', 'NZ', 'QA',\n",
              "       'TM', 'GL', 'KM', 'SZ', 'CD', 'PS', 'GA', 'BV', 'MG', 'SV', 'MV',\n",
              "       'GD', 'ML', 'FK', 'CK', 'OM', 'BO', 'VA', 'MS', 'LY', 'TO', 'SD',\n",
              "       'BH', 'MU', 'PG', 'HT', 'TZ', 'TT', 'VI', 'FJ', 'IS', 'HM', 'BM',\n",
              "       'MK', 'MN', 'SM', 'PW', 'CV', 'BL', 'PY', 'NI', 'WF', 'CW', 'GN',\n",
              "       'BA', 'GF', 'ST', 'TC', 'SO', 'BZ', 'IO', 'VU', 'TF', 'SL', 'GG',\n",
              "       'CC', 'GT', 'SB', 'PN', 'YT', 'BT', 'MP', 'FM', 'SH', 'GI', 'SS',\n",
              "       'NC', 'JE', 'MH', 'TK', 'GY', 'SR', 'TV'], dtype=object)"
            ]
          },
          "metadata": {},
          "execution_count": 21
        }
      ],
      "source": [
        "country_users = pd.unique(users[\"country\"])\n",
        "country_users"
      ]
    },
    {
      "cell_type": "code",
      "execution_count": 22,
      "metadata": {
        "id": "IUdQCjHFZrw0",
        "colab": {
          "base_uri": "https://localhost:8080/",
          "height": 300
        },
        "outputId": "a83f2409-5a19-4c52-df4a-452bb19de3a7"
      },
      "outputs": [
        {
          "output_type": "execute_result",
          "data": {
            "text/plain": [
              "            pcs    toy_id   user_id  coins_payed\n",
              "count  251736.0  251736.0  251736.0     251736.0\n",
              "mean    33184.0     562.0  269314.0          1.0\n",
              "std     25490.0      35.0  124568.0          5.0\n",
              "min         1.0     271.0       1.0          0.0\n",
              "25%     11772.0     563.0  171634.0          0.0\n",
              "50%     26632.0     563.0  281483.0          0.0\n",
              "75%     54334.0     575.0  381179.0          0.0\n",
              "max     88788.0     582.0  446467.0         25.0"
            ],
            "text/html": [
              "\n",
              "  <div id=\"df-8f975fc8-227c-413b-ba7b-ce2246baf2d4\">\n",
              "    <div class=\"colab-df-container\">\n",
              "      <div>\n",
              "<style scoped>\n",
              "    .dataframe tbody tr th:only-of-type {\n",
              "        vertical-align: middle;\n",
              "    }\n",
              "\n",
              "    .dataframe tbody tr th {\n",
              "        vertical-align: top;\n",
              "    }\n",
              "\n",
              "    .dataframe thead th {\n",
              "        text-align: right;\n",
              "    }\n",
              "</style>\n",
              "<table border=\"1\" class=\"dataframe\">\n",
              "  <thead>\n",
              "    <tr style=\"text-align: right;\">\n",
              "      <th></th>\n",
              "      <th>pcs</th>\n",
              "      <th>toy_id</th>\n",
              "      <th>user_id</th>\n",
              "      <th>coins_payed</th>\n",
              "    </tr>\n",
              "  </thead>\n",
              "  <tbody>\n",
              "    <tr>\n",
              "      <th>count</th>\n",
              "      <td>251736.0</td>\n",
              "      <td>251736.0</td>\n",
              "      <td>251736.0</td>\n",
              "      <td>251736.0</td>\n",
              "    </tr>\n",
              "    <tr>\n",
              "      <th>mean</th>\n",
              "      <td>33184.0</td>\n",
              "      <td>562.0</td>\n",
              "      <td>269314.0</td>\n",
              "      <td>1.0</td>\n",
              "    </tr>\n",
              "    <tr>\n",
              "      <th>std</th>\n",
              "      <td>25490.0</td>\n",
              "      <td>35.0</td>\n",
              "      <td>124568.0</td>\n",
              "      <td>5.0</td>\n",
              "    </tr>\n",
              "    <tr>\n",
              "      <th>min</th>\n",
              "      <td>1.0</td>\n",
              "      <td>271.0</td>\n",
              "      <td>1.0</td>\n",
              "      <td>0.0</td>\n",
              "    </tr>\n",
              "    <tr>\n",
              "      <th>25%</th>\n",
              "      <td>11772.0</td>\n",
              "      <td>563.0</td>\n",
              "      <td>171634.0</td>\n",
              "      <td>0.0</td>\n",
              "    </tr>\n",
              "    <tr>\n",
              "      <th>50%</th>\n",
              "      <td>26632.0</td>\n",
              "      <td>563.0</td>\n",
              "      <td>281483.0</td>\n",
              "      <td>0.0</td>\n",
              "    </tr>\n",
              "    <tr>\n",
              "      <th>75%</th>\n",
              "      <td>54334.0</td>\n",
              "      <td>575.0</td>\n",
              "      <td>381179.0</td>\n",
              "      <td>0.0</td>\n",
              "    </tr>\n",
              "    <tr>\n",
              "      <th>max</th>\n",
              "      <td>88788.0</td>\n",
              "      <td>582.0</td>\n",
              "      <td>446467.0</td>\n",
              "      <td>25.0</td>\n",
              "    </tr>\n",
              "  </tbody>\n",
              "</table>\n",
              "</div>\n",
              "      <button class=\"colab-df-convert\" onclick=\"convertToInteractive('df-8f975fc8-227c-413b-ba7b-ce2246baf2d4')\"\n",
              "              title=\"Convert this dataframe to an interactive table.\"\n",
              "              style=\"display:none;\">\n",
              "        \n",
              "  <svg xmlns=\"http://www.w3.org/2000/svg\" height=\"24px\"viewBox=\"0 0 24 24\"\n",
              "       width=\"24px\">\n",
              "    <path d=\"M0 0h24v24H0V0z\" fill=\"none\"/>\n",
              "    <path d=\"M18.56 5.44l.94 2.06.94-2.06 2.06-.94-2.06-.94-.94-2.06-.94 2.06-2.06.94zm-11 1L8.5 8.5l.94-2.06 2.06-.94-2.06-.94L8.5 2.5l-.94 2.06-2.06.94zm10 10l.94 2.06.94-2.06 2.06-.94-2.06-.94-.94-2.06-.94 2.06-2.06.94z\"/><path d=\"M17.41 7.96l-1.37-1.37c-.4-.4-.92-.59-1.43-.59-.52 0-1.04.2-1.43.59L10.3 9.45l-7.72 7.72c-.78.78-.78 2.05 0 2.83L4 21.41c.39.39.9.59 1.41.59.51 0 1.02-.2 1.41-.59l7.78-7.78 2.81-2.81c.8-.78.8-2.07 0-2.86zM5.41 20L4 18.59l7.72-7.72 1.47 1.35L5.41 20z\"/>\n",
              "  </svg>\n",
              "      </button>\n",
              "      \n",
              "  <style>\n",
              "    .colab-df-container {\n",
              "      display:flex;\n",
              "      flex-wrap:wrap;\n",
              "      gap: 12px;\n",
              "    }\n",
              "\n",
              "    .colab-df-convert {\n",
              "      background-color: #E8F0FE;\n",
              "      border: none;\n",
              "      border-radius: 50%;\n",
              "      cursor: pointer;\n",
              "      display: none;\n",
              "      fill: #1967D2;\n",
              "      height: 32px;\n",
              "      padding: 0 0 0 0;\n",
              "      width: 32px;\n",
              "    }\n",
              "\n",
              "    .colab-df-convert:hover {\n",
              "      background-color: #E2EBFA;\n",
              "      box-shadow: 0px 1px 2px rgba(60, 64, 67, 0.3), 0px 1px 3px 1px rgba(60, 64, 67, 0.15);\n",
              "      fill: #174EA6;\n",
              "    }\n",
              "\n",
              "    [theme=dark] .colab-df-convert {\n",
              "      background-color: #3B4455;\n",
              "      fill: #D2E3FC;\n",
              "    }\n",
              "\n",
              "    [theme=dark] .colab-df-convert:hover {\n",
              "      background-color: #434B5C;\n",
              "      box-shadow: 0px 1px 3px 1px rgba(0, 0, 0, 0.15);\n",
              "      filter: drop-shadow(0px 1px 2px rgba(0, 0, 0, 0.3));\n",
              "      fill: #FFFFFF;\n",
              "    }\n",
              "  </style>\n",
              "\n",
              "      <script>\n",
              "        const buttonEl =\n",
              "          document.querySelector('#df-8f975fc8-227c-413b-ba7b-ce2246baf2d4 button.colab-df-convert');\n",
              "        buttonEl.style.display =\n",
              "          google.colab.kernel.accessAllowed ? 'block' : 'none';\n",
              "\n",
              "        async function convertToInteractive(key) {\n",
              "          const element = document.querySelector('#df-8f975fc8-227c-413b-ba7b-ce2246baf2d4');\n",
              "          const dataTable =\n",
              "            await google.colab.kernel.invokeFunction('convertToInteractive',\n",
              "                                                     [key], {});\n",
              "          if (!dataTable) return;\n",
              "\n",
              "          const docLinkHtml = 'Like what you see? Visit the ' +\n",
              "            '<a target=\"_blank\" href=https://colab.research.google.com/notebooks/data_table.ipynb>data table notebook</a>'\n",
              "            + ' to learn more about interactive tables.';\n",
              "          element.innerHTML = '';\n",
              "          dataTable['output_type'] = 'display_data';\n",
              "          await google.colab.output.renderOutput(dataTable, element);\n",
              "          const docLink = document.createElement('div');\n",
              "          docLink.innerHTML = docLinkHtml;\n",
              "          element.appendChild(docLink);\n",
              "        }\n",
              "      </script>\n",
              "    </div>\n",
              "  </div>\n",
              "  "
            ]
          },
          "metadata": {},
          "execution_count": 22
        }
      ],
      "source": [
        "round (toys.describe(),0)"
      ]
    },
    {
      "cell_type": "code",
      "execution_count": 23,
      "metadata": {
        "id": "OpWl4QQu2DIJ",
        "colab": {
          "base_uri": "https://localhost:8080/",
          "height": 300
        },
        "outputId": "04b432be-2c3e-4d17-85c2-f8de6f3cb3d9"
      },
      "outputs": [
        {
          "output_type": "execute_result",
          "data": {
            "text/plain": [
              "       coins_spent  bought_toys  total_toys  gifted_toys  bonus_coins\n",
              "count     143305.0     143305.0    143305.0     143305.0     143305.0\n",
              "mean          21.0          1.0        33.0          1.0         18.0\n",
              "std           36.0          2.0        36.0          3.0         99.0\n",
              "min            0.0          0.0         0.0          0.0          0.0\n",
              "25%            0.0          0.0         6.0          0.0         10.0\n",
              "50%            0.0          0.0        22.0          0.0         10.0\n",
              "75%           25.0          1.0        49.0          0.0         10.0\n",
              "max         1545.0        150.0       449.0        121.0      19715.0"
            ],
            "text/html": [
              "\n",
              "  <div id=\"df-da07d618-b5f8-4b3b-b2cd-40c7b037b0a3\">\n",
              "    <div class=\"colab-df-container\">\n",
              "      <div>\n",
              "<style scoped>\n",
              "    .dataframe tbody tr th:only-of-type {\n",
              "        vertical-align: middle;\n",
              "    }\n",
              "\n",
              "    .dataframe tbody tr th {\n",
              "        vertical-align: top;\n",
              "    }\n",
              "\n",
              "    .dataframe thead th {\n",
              "        text-align: right;\n",
              "    }\n",
              "</style>\n",
              "<table border=\"1\" class=\"dataframe\">\n",
              "  <thead>\n",
              "    <tr style=\"text-align: right;\">\n",
              "      <th></th>\n",
              "      <th>coins_spent</th>\n",
              "      <th>bought_toys</th>\n",
              "      <th>total_toys</th>\n",
              "      <th>gifted_toys</th>\n",
              "      <th>bonus_coins</th>\n",
              "    </tr>\n",
              "  </thead>\n",
              "  <tbody>\n",
              "    <tr>\n",
              "      <th>count</th>\n",
              "      <td>143305.0</td>\n",
              "      <td>143305.0</td>\n",
              "      <td>143305.0</td>\n",
              "      <td>143305.0</td>\n",
              "      <td>143305.0</td>\n",
              "    </tr>\n",
              "    <tr>\n",
              "      <th>mean</th>\n",
              "      <td>21.0</td>\n",
              "      <td>1.0</td>\n",
              "      <td>33.0</td>\n",
              "      <td>1.0</td>\n",
              "      <td>18.0</td>\n",
              "    </tr>\n",
              "    <tr>\n",
              "      <th>std</th>\n",
              "      <td>36.0</td>\n",
              "      <td>2.0</td>\n",
              "      <td>36.0</td>\n",
              "      <td>3.0</td>\n",
              "      <td>99.0</td>\n",
              "    </tr>\n",
              "    <tr>\n",
              "      <th>min</th>\n",
              "      <td>0.0</td>\n",
              "      <td>0.0</td>\n",
              "      <td>0.0</td>\n",
              "      <td>0.0</td>\n",
              "      <td>0.0</td>\n",
              "    </tr>\n",
              "    <tr>\n",
              "      <th>25%</th>\n",
              "      <td>0.0</td>\n",
              "      <td>0.0</td>\n",
              "      <td>6.0</td>\n",
              "      <td>0.0</td>\n",
              "      <td>10.0</td>\n",
              "    </tr>\n",
              "    <tr>\n",
              "      <th>50%</th>\n",
              "      <td>0.0</td>\n",
              "      <td>0.0</td>\n",
              "      <td>22.0</td>\n",
              "      <td>0.0</td>\n",
              "      <td>10.0</td>\n",
              "    </tr>\n",
              "    <tr>\n",
              "      <th>75%</th>\n",
              "      <td>25.0</td>\n",
              "      <td>1.0</td>\n",
              "      <td>49.0</td>\n",
              "      <td>0.0</td>\n",
              "      <td>10.0</td>\n",
              "    </tr>\n",
              "    <tr>\n",
              "      <th>max</th>\n",
              "      <td>1545.0</td>\n",
              "      <td>150.0</td>\n",
              "      <td>449.0</td>\n",
              "      <td>121.0</td>\n",
              "      <td>19715.0</td>\n",
              "    </tr>\n",
              "  </tbody>\n",
              "</table>\n",
              "</div>\n",
              "      <button class=\"colab-df-convert\" onclick=\"convertToInteractive('df-da07d618-b5f8-4b3b-b2cd-40c7b037b0a3')\"\n",
              "              title=\"Convert this dataframe to an interactive table.\"\n",
              "              style=\"display:none;\">\n",
              "        \n",
              "  <svg xmlns=\"http://www.w3.org/2000/svg\" height=\"24px\"viewBox=\"0 0 24 24\"\n",
              "       width=\"24px\">\n",
              "    <path d=\"M0 0h24v24H0V0z\" fill=\"none\"/>\n",
              "    <path d=\"M18.56 5.44l.94 2.06.94-2.06 2.06-.94-2.06-.94-.94-2.06-.94 2.06-2.06.94zm-11 1L8.5 8.5l.94-2.06 2.06-.94-2.06-.94L8.5 2.5l-.94 2.06-2.06.94zm10 10l.94 2.06.94-2.06 2.06-.94-2.06-.94-.94-2.06-.94 2.06-2.06.94z\"/><path d=\"M17.41 7.96l-1.37-1.37c-.4-.4-.92-.59-1.43-.59-.52 0-1.04.2-1.43.59L10.3 9.45l-7.72 7.72c-.78.78-.78 2.05 0 2.83L4 21.41c.39.39.9.59 1.41.59.51 0 1.02-.2 1.41-.59l7.78-7.78 2.81-2.81c.8-.78.8-2.07 0-2.86zM5.41 20L4 18.59l7.72-7.72 1.47 1.35L5.41 20z\"/>\n",
              "  </svg>\n",
              "      </button>\n",
              "      \n",
              "  <style>\n",
              "    .colab-df-container {\n",
              "      display:flex;\n",
              "      flex-wrap:wrap;\n",
              "      gap: 12px;\n",
              "    }\n",
              "\n",
              "    .colab-df-convert {\n",
              "      background-color: #E8F0FE;\n",
              "      border: none;\n",
              "      border-radius: 50%;\n",
              "      cursor: pointer;\n",
              "      display: none;\n",
              "      fill: #1967D2;\n",
              "      height: 32px;\n",
              "      padding: 0 0 0 0;\n",
              "      width: 32px;\n",
              "    }\n",
              "\n",
              "    .colab-df-convert:hover {\n",
              "      background-color: #E2EBFA;\n",
              "      box-shadow: 0px 1px 2px rgba(60, 64, 67, 0.3), 0px 1px 3px 1px rgba(60, 64, 67, 0.15);\n",
              "      fill: #174EA6;\n",
              "    }\n",
              "\n",
              "    [theme=dark] .colab-df-convert {\n",
              "      background-color: #3B4455;\n",
              "      fill: #D2E3FC;\n",
              "    }\n",
              "\n",
              "    [theme=dark] .colab-df-convert:hover {\n",
              "      background-color: #434B5C;\n",
              "      box-shadow: 0px 1px 3px 1px rgba(0, 0, 0, 0.15);\n",
              "      filter: drop-shadow(0px 1px 2px rgba(0, 0, 0, 0.3));\n",
              "      fill: #FFFFFF;\n",
              "    }\n",
              "  </style>\n",
              "\n",
              "      <script>\n",
              "        const buttonEl =\n",
              "          document.querySelector('#df-da07d618-b5f8-4b3b-b2cd-40c7b037b0a3 button.colab-df-convert');\n",
              "        buttonEl.style.display =\n",
              "          google.colab.kernel.accessAllowed ? 'block' : 'none';\n",
              "\n",
              "        async function convertToInteractive(key) {\n",
              "          const element = document.querySelector('#df-da07d618-b5f8-4b3b-b2cd-40c7b037b0a3');\n",
              "          const dataTable =\n",
              "            await google.colab.kernel.invokeFunction('convertToInteractive',\n",
              "                                                     [key], {});\n",
              "          if (!dataTable) return;\n",
              "\n",
              "          const docLinkHtml = 'Like what you see? Visit the ' +\n",
              "            '<a target=\"_blank\" href=https://colab.research.google.com/notebooks/data_table.ipynb>data table notebook</a>'\n",
              "            + ' to learn more about interactive tables.';\n",
              "          element.innerHTML = '';\n",
              "          dataTable['output_type'] = 'display_data';\n",
              "          await google.colab.output.renderOutput(dataTable, element);\n",
              "          const docLink = document.createElement('div');\n",
              "          docLink.innerHTML = docLinkHtml;\n",
              "          element.appendChild(docLink);\n",
              "        }\n",
              "      </script>\n",
              "    </div>\n",
              "  </div>\n",
              "  "
            ]
          },
          "metadata": {},
          "execution_count": 23
        }
      ],
      "source": [
        "round (users.describe(),0)"
      ]
    },
    {
      "cell_type": "code",
      "execution_count": 24,
      "metadata": {
        "id": "OIVQV0cZZp-I",
        "colab": {
          "base_uri": "https://localhost:8080/"
        },
        "outputId": "470e2af5-65ed-4f20-eebe-80a484d327b7"
      },
      "outputs": [
        {
          "output_type": "execute_result",
          "data": {
            "text/plain": [
              "CN    12827\n",
              "ID     7662\n",
              "RU     7420\n",
              "BR     7306\n",
              "NG     7136\n",
              "      ...  \n",
              "VC        1\n",
              "SO        1\n",
              "TC        1\n",
              "TO        1\n",
              "TV        1\n",
              "Name: country, Length: 237, dtype: int64"
            ]
          },
          "metadata": {},
          "execution_count": 24
        }
      ],
      "source": [
        "users['country'].value_counts()\n"
      ]
    },
    {
      "cell_type": "code",
      "execution_count": 25,
      "metadata": {
        "id": "i046t4p_9ETR"
      },
      "outputs": [],
      "source": [
        "#users['coins_spent'].value_counts()\n"
      ]
    },
    {
      "cell_type": "code",
      "execution_count": 26,
      "metadata": {
        "colab": {
          "base_uri": "https://localhost:8080/",
          "height": 455
        },
        "id": "r_e93gXfASQZ",
        "outputId": "ee689b8f-e8f7-4e15-aace-9360da057b24"
      },
      "outputs": [
        {
          "output_type": "execute_result",
          "data": {
            "text/plain": [
              "           pcs created  toy_id  user_id  coins_payed  is_gift\n",
              "id                                                           \n",
              "5942611  22900  2022-0     557   207371            0    False\n",
              "5942579  22893  2022-0     557   161333            0    False\n",
              "5942580  58791  2022-0     556   425707            0    False\n",
              "5942581  46376  2022-0     343   332362           25    False\n",
              "5942582  58792  2022-0     556   337092            0    False\n",
              "...        ...     ...     ...      ...          ...      ...\n",
              "6195289   3646  2022-0     570   144509            0    False\n",
              "6195290   3647  2022-0     570   170633            0    False\n",
              "6195291   3648  2022-0     570   102357            0    False\n",
              "6195292   3649  2022-0     570   392451            0    False\n",
              "6195293   3650  2022-0     570   257700            0    False\n",
              "\n",
              "[251736 rows x 6 columns]"
            ],
            "text/html": [
              "\n",
              "  <div id=\"df-9b987967-14ad-4540-a34f-718fcefcf186\">\n",
              "    <div class=\"colab-df-container\">\n",
              "      <div>\n",
              "<style scoped>\n",
              "    .dataframe tbody tr th:only-of-type {\n",
              "        vertical-align: middle;\n",
              "    }\n",
              "\n",
              "    .dataframe tbody tr th {\n",
              "        vertical-align: top;\n",
              "    }\n",
              "\n",
              "    .dataframe thead th {\n",
              "        text-align: right;\n",
              "    }\n",
              "</style>\n",
              "<table border=\"1\" class=\"dataframe\">\n",
              "  <thead>\n",
              "    <tr style=\"text-align: right;\">\n",
              "      <th></th>\n",
              "      <th>pcs</th>\n",
              "      <th>created</th>\n",
              "      <th>toy_id</th>\n",
              "      <th>user_id</th>\n",
              "      <th>coins_payed</th>\n",
              "      <th>is_gift</th>\n",
              "    </tr>\n",
              "    <tr>\n",
              "      <th>id</th>\n",
              "      <th></th>\n",
              "      <th></th>\n",
              "      <th></th>\n",
              "      <th></th>\n",
              "      <th></th>\n",
              "      <th></th>\n",
              "    </tr>\n",
              "  </thead>\n",
              "  <tbody>\n",
              "    <tr>\n",
              "      <th>5942611</th>\n",
              "      <td>22900</td>\n",
              "      <td>2022-0</td>\n",
              "      <td>557</td>\n",
              "      <td>207371</td>\n",
              "      <td>0</td>\n",
              "      <td>False</td>\n",
              "    </tr>\n",
              "    <tr>\n",
              "      <th>5942579</th>\n",
              "      <td>22893</td>\n",
              "      <td>2022-0</td>\n",
              "      <td>557</td>\n",
              "      <td>161333</td>\n",
              "      <td>0</td>\n",
              "      <td>False</td>\n",
              "    </tr>\n",
              "    <tr>\n",
              "      <th>5942580</th>\n",
              "      <td>58791</td>\n",
              "      <td>2022-0</td>\n",
              "      <td>556</td>\n",
              "      <td>425707</td>\n",
              "      <td>0</td>\n",
              "      <td>False</td>\n",
              "    </tr>\n",
              "    <tr>\n",
              "      <th>5942581</th>\n",
              "      <td>46376</td>\n",
              "      <td>2022-0</td>\n",
              "      <td>343</td>\n",
              "      <td>332362</td>\n",
              "      <td>25</td>\n",
              "      <td>False</td>\n",
              "    </tr>\n",
              "    <tr>\n",
              "      <th>5942582</th>\n",
              "      <td>58792</td>\n",
              "      <td>2022-0</td>\n",
              "      <td>556</td>\n",
              "      <td>337092</td>\n",
              "      <td>0</td>\n",
              "      <td>False</td>\n",
              "    </tr>\n",
              "    <tr>\n",
              "      <th>...</th>\n",
              "      <td>...</td>\n",
              "      <td>...</td>\n",
              "      <td>...</td>\n",
              "      <td>...</td>\n",
              "      <td>...</td>\n",
              "      <td>...</td>\n",
              "    </tr>\n",
              "    <tr>\n",
              "      <th>6195289</th>\n",
              "      <td>3646</td>\n",
              "      <td>2022-0</td>\n",
              "      <td>570</td>\n",
              "      <td>144509</td>\n",
              "      <td>0</td>\n",
              "      <td>False</td>\n",
              "    </tr>\n",
              "    <tr>\n",
              "      <th>6195290</th>\n",
              "      <td>3647</td>\n",
              "      <td>2022-0</td>\n",
              "      <td>570</td>\n",
              "      <td>170633</td>\n",
              "      <td>0</td>\n",
              "      <td>False</td>\n",
              "    </tr>\n",
              "    <tr>\n",
              "      <th>6195291</th>\n",
              "      <td>3648</td>\n",
              "      <td>2022-0</td>\n",
              "      <td>570</td>\n",
              "      <td>102357</td>\n",
              "      <td>0</td>\n",
              "      <td>False</td>\n",
              "    </tr>\n",
              "    <tr>\n",
              "      <th>6195292</th>\n",
              "      <td>3649</td>\n",
              "      <td>2022-0</td>\n",
              "      <td>570</td>\n",
              "      <td>392451</td>\n",
              "      <td>0</td>\n",
              "      <td>False</td>\n",
              "    </tr>\n",
              "    <tr>\n",
              "      <th>6195293</th>\n",
              "      <td>3650</td>\n",
              "      <td>2022-0</td>\n",
              "      <td>570</td>\n",
              "      <td>257700</td>\n",
              "      <td>0</td>\n",
              "      <td>False</td>\n",
              "    </tr>\n",
              "  </tbody>\n",
              "</table>\n",
              "<p>251736 rows × 6 columns</p>\n",
              "</div>\n",
              "      <button class=\"colab-df-convert\" onclick=\"convertToInteractive('df-9b987967-14ad-4540-a34f-718fcefcf186')\"\n",
              "              title=\"Convert this dataframe to an interactive table.\"\n",
              "              style=\"display:none;\">\n",
              "        \n",
              "  <svg xmlns=\"http://www.w3.org/2000/svg\" height=\"24px\"viewBox=\"0 0 24 24\"\n",
              "       width=\"24px\">\n",
              "    <path d=\"M0 0h24v24H0V0z\" fill=\"none\"/>\n",
              "    <path d=\"M18.56 5.44l.94 2.06.94-2.06 2.06-.94-2.06-.94-.94-2.06-.94 2.06-2.06.94zm-11 1L8.5 8.5l.94-2.06 2.06-.94-2.06-.94L8.5 2.5l-.94 2.06-2.06.94zm10 10l.94 2.06.94-2.06 2.06-.94-2.06-.94-.94-2.06-.94 2.06-2.06.94z\"/><path d=\"M17.41 7.96l-1.37-1.37c-.4-.4-.92-.59-1.43-.59-.52 0-1.04.2-1.43.59L10.3 9.45l-7.72 7.72c-.78.78-.78 2.05 0 2.83L4 21.41c.39.39.9.59 1.41.59.51 0 1.02-.2 1.41-.59l7.78-7.78 2.81-2.81c.8-.78.8-2.07 0-2.86zM5.41 20L4 18.59l7.72-7.72 1.47 1.35L5.41 20z\"/>\n",
              "  </svg>\n",
              "      </button>\n",
              "      \n",
              "  <style>\n",
              "    .colab-df-container {\n",
              "      display:flex;\n",
              "      flex-wrap:wrap;\n",
              "      gap: 12px;\n",
              "    }\n",
              "\n",
              "    .colab-df-convert {\n",
              "      background-color: #E8F0FE;\n",
              "      border: none;\n",
              "      border-radius: 50%;\n",
              "      cursor: pointer;\n",
              "      display: none;\n",
              "      fill: #1967D2;\n",
              "      height: 32px;\n",
              "      padding: 0 0 0 0;\n",
              "      width: 32px;\n",
              "    }\n",
              "\n",
              "    .colab-df-convert:hover {\n",
              "      background-color: #E2EBFA;\n",
              "      box-shadow: 0px 1px 2px rgba(60, 64, 67, 0.3), 0px 1px 3px 1px rgba(60, 64, 67, 0.15);\n",
              "      fill: #174EA6;\n",
              "    }\n",
              "\n",
              "    [theme=dark] .colab-df-convert {\n",
              "      background-color: #3B4455;\n",
              "      fill: #D2E3FC;\n",
              "    }\n",
              "\n",
              "    [theme=dark] .colab-df-convert:hover {\n",
              "      background-color: #434B5C;\n",
              "      box-shadow: 0px 1px 3px 1px rgba(0, 0, 0, 0.15);\n",
              "      filter: drop-shadow(0px 1px 2px rgba(0, 0, 0, 0.3));\n",
              "      fill: #FFFFFF;\n",
              "    }\n",
              "  </style>\n",
              "\n",
              "      <script>\n",
              "        const buttonEl =\n",
              "          document.querySelector('#df-9b987967-14ad-4540-a34f-718fcefcf186 button.colab-df-convert');\n",
              "        buttonEl.style.display =\n",
              "          google.colab.kernel.accessAllowed ? 'block' : 'none';\n",
              "\n",
              "        async function convertToInteractive(key) {\n",
              "          const element = document.querySelector('#df-9b987967-14ad-4540-a34f-718fcefcf186');\n",
              "          const dataTable =\n",
              "            await google.colab.kernel.invokeFunction('convertToInteractive',\n",
              "                                                     [key], {});\n",
              "          if (!dataTable) return;\n",
              "\n",
              "          const docLinkHtml = 'Like what you see? Visit the ' +\n",
              "            '<a target=\"_blank\" href=https://colab.research.google.com/notebooks/data_table.ipynb>data table notebook</a>'\n",
              "            + ' to learn more about interactive tables.';\n",
              "          element.innerHTML = '';\n",
              "          dataTable['output_type'] = 'display_data';\n",
              "          await google.colab.output.renderOutput(dataTable, element);\n",
              "          const docLink = document.createElement('div');\n",
              "          docLink.innerHTML = docLinkHtml;\n",
              "          element.appendChild(docLink);\n",
              "        }\n",
              "      </script>\n",
              "    </div>\n",
              "  </div>\n",
              "  "
            ]
          },
          "metadata": {},
          "execution_count": 26
        }
      ],
      "source": [
        "\n",
        "toys_date = toys\n",
        "toys_date ['created'] = toys_date['created'].str[:-13]\n",
        "toys_date"
      ]
    }
  ],
  "metadata": {
    "colab": {
      "collapsed_sections": [],
      "name": "Chuki_Roko_may.ipynb",
      "provenance": [],
      "authorship_tag": "ABX9TyNfP8pamfFvEm5U7Yb0Y42G",
      "include_colab_link": true
    },
    "kernelspec": {
      "display_name": "Python 3",
      "name": "python3"
    },
    "language_info": {
      "name": "python"
    }
  },
  "nbformat": 4,
  "nbformat_minor": 0
}