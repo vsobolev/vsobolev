{
  "nbformat": 4,
  "nbformat_minor": 0,
  "metadata": {
    "colab": {
      "name": "visualisation_clusterisation_dfs_activity_golden.ipynb",
      "provenance": [],
      "collapsed_sections": []
    },
    "kernelspec": {
      "name": "python3",
      "display_name": "Python 3"
    },
    "language_info": {
      "name": "python"
    }
  },
  "cells": [
    {
      "cell_type": "code",
      "execution_count": 1,
      "metadata": {
        "id": "UN-fRtCRRgqN"
      },
      "outputs": [],
      "source": [
        "#pip install ipympl\n",
        "\n",
        "import numpy as np\n",
        "import pandas as pd\n",
        "import math\n",
        "#import missingno as msno\n",
        "from datetime import datetime, timedelta\n",
        "\n",
        "import matplotlib.pyplot as plt\n",
        "%matplotlib inline\n",
        "import seaborn as sns\n",
        "plt.style.use('seaborn-darkgrid')\n",
        "palette = plt.get_cmap('Set2')\n",
        "from operator import is_not\n",
        "import os\n",
        "\n",
        "\n",
        "from sklearn.cluster import KMeans \n",
        "from sklearn.linear_model import LinearRegression\n",
        "\n",
        "sns.set(rc={'figure.figsize':(18, 9)})"
      ]
    },
    {
      "cell_type": "markdown",
      "source": [
        "### import libraries and files\n"
      ],
      "metadata": {
        "id": "mq2R2HBVhd8P"
      }
    },
    {
      "cell_type": "code",
      "source": [
        "coins_spend_original = pd.read_csv(\"coins_spend_02_24.csv\", index_col=\"user_id\") # delimiter='\\t',\n",
        "coins_spend_original['user_id'] = coins_spend_original.index\n",
        "#coins_spend_original.tail"
      ],
      "metadata": {
        "id": "fzaMVjlZSBiA"
      },
      "execution_count": 2,
      "outputs": []
    },
    {
      "cell_type": "code",
      "source": [
        "coins_spend_original['day'] = coins_spend_original['date'].str[8:10]\n",
        "coins_spend_original['day'] = pd.to_numeric(coins_spend_original['day'].str.replace('\\D', ''), errors='coerce')\n",
        "coins_spend_original['mounth'] = coins_spend_original['date'].str[5:7]\n",
        "coins_spend_original['year'] = coins_spend_original['date'].str[0:4]\n",
        "coins_spend_original = coins_spend_original.drop (columns = ['date'])\n",
        "coins_spend_original"
      ],
      "metadata": {
        "colab": {
          "base_uri": "https://localhost:8080/",
          "height": 490
        },
        "id": "vME6lvyCSEtd",
        "outputId": "464bfd65-e5b5-4385-fa45-de200337fc8a"
      },
      "execution_count": 3,
      "outputs": [
        {
          "output_type": "stream",
          "name": "stderr",
          "text": [
            "/usr/local/lib/python3.7/dist-packages/ipykernel_launcher.py:2: FutureWarning: The default value of regex will change from True to False in a future version.\n",
            "  \n"
          ]
        },
        {
          "output_type": "execute_result",
          "data": {
            "text/plain": [
              "             status  coins  user_id  day mounth  year\n",
              "user_id                                              \n",
              "300071     rejected     20   300071    2     05  2022\n",
              "425696     rejected     14   425696    2     05  2022\n",
              "332362   successful      3   332362    2     05  2022\n",
              "402234     rejected     10   402234    2     05  2022\n",
              "261026     rejected     21   261026    2     05  2022\n",
              "...             ...    ...      ...  ...    ...   ...\n",
              "35151      rejected      6    35151   24     05  2022\n",
              "356515     rejected     20   356515   24     05  2022\n",
              "518881     rejected     15   518881   24     05  2022\n",
              "495681     rejected     10   495681   24     05  2022\n",
              "450618     rejected      7   450618   24     05  2022\n",
              "\n",
              "[589718 rows x 6 columns]"
            ],
            "text/html": [
              "\n",
              "  <div id=\"df-845f3a20-12db-4732-b007-43c767527357\">\n",
              "    <div class=\"colab-df-container\">\n",
              "      <div>\n",
              "<style scoped>\n",
              "    .dataframe tbody tr th:only-of-type {\n",
              "        vertical-align: middle;\n",
              "    }\n",
              "\n",
              "    .dataframe tbody tr th {\n",
              "        vertical-align: top;\n",
              "    }\n",
              "\n",
              "    .dataframe thead th {\n",
              "        text-align: right;\n",
              "    }\n",
              "</style>\n",
              "<table border=\"1\" class=\"dataframe\">\n",
              "  <thead>\n",
              "    <tr style=\"text-align: right;\">\n",
              "      <th></th>\n",
              "      <th>status</th>\n",
              "      <th>coins</th>\n",
              "      <th>user_id</th>\n",
              "      <th>day</th>\n",
              "      <th>mounth</th>\n",
              "      <th>year</th>\n",
              "    </tr>\n",
              "    <tr>\n",
              "      <th>user_id</th>\n",
              "      <th></th>\n",
              "      <th></th>\n",
              "      <th></th>\n",
              "      <th></th>\n",
              "      <th></th>\n",
              "      <th></th>\n",
              "    </tr>\n",
              "  </thead>\n",
              "  <tbody>\n",
              "    <tr>\n",
              "      <th>300071</th>\n",
              "      <td>rejected</td>\n",
              "      <td>20</td>\n",
              "      <td>300071</td>\n",
              "      <td>2</td>\n",
              "      <td>05</td>\n",
              "      <td>2022</td>\n",
              "    </tr>\n",
              "    <tr>\n",
              "      <th>425696</th>\n",
              "      <td>rejected</td>\n",
              "      <td>14</td>\n",
              "      <td>425696</td>\n",
              "      <td>2</td>\n",
              "      <td>05</td>\n",
              "      <td>2022</td>\n",
              "    </tr>\n",
              "    <tr>\n",
              "      <th>332362</th>\n",
              "      <td>successful</td>\n",
              "      <td>3</td>\n",
              "      <td>332362</td>\n",
              "      <td>2</td>\n",
              "      <td>05</td>\n",
              "      <td>2022</td>\n",
              "    </tr>\n",
              "    <tr>\n",
              "      <th>402234</th>\n",
              "      <td>rejected</td>\n",
              "      <td>10</td>\n",
              "      <td>402234</td>\n",
              "      <td>2</td>\n",
              "      <td>05</td>\n",
              "      <td>2022</td>\n",
              "    </tr>\n",
              "    <tr>\n",
              "      <th>261026</th>\n",
              "      <td>rejected</td>\n",
              "      <td>21</td>\n",
              "      <td>261026</td>\n",
              "      <td>2</td>\n",
              "      <td>05</td>\n",
              "      <td>2022</td>\n",
              "    </tr>\n",
              "    <tr>\n",
              "      <th>...</th>\n",
              "      <td>...</td>\n",
              "      <td>...</td>\n",
              "      <td>...</td>\n",
              "      <td>...</td>\n",
              "      <td>...</td>\n",
              "      <td>...</td>\n",
              "    </tr>\n",
              "    <tr>\n",
              "      <th>35151</th>\n",
              "      <td>rejected</td>\n",
              "      <td>6</td>\n",
              "      <td>35151</td>\n",
              "      <td>24</td>\n",
              "      <td>05</td>\n",
              "      <td>2022</td>\n",
              "    </tr>\n",
              "    <tr>\n",
              "      <th>356515</th>\n",
              "      <td>rejected</td>\n",
              "      <td>20</td>\n",
              "      <td>356515</td>\n",
              "      <td>24</td>\n",
              "      <td>05</td>\n",
              "      <td>2022</td>\n",
              "    </tr>\n",
              "    <tr>\n",
              "      <th>518881</th>\n",
              "      <td>rejected</td>\n",
              "      <td>15</td>\n",
              "      <td>518881</td>\n",
              "      <td>24</td>\n",
              "      <td>05</td>\n",
              "      <td>2022</td>\n",
              "    </tr>\n",
              "    <tr>\n",
              "      <th>495681</th>\n",
              "      <td>rejected</td>\n",
              "      <td>10</td>\n",
              "      <td>495681</td>\n",
              "      <td>24</td>\n",
              "      <td>05</td>\n",
              "      <td>2022</td>\n",
              "    </tr>\n",
              "    <tr>\n",
              "      <th>450618</th>\n",
              "      <td>rejected</td>\n",
              "      <td>7</td>\n",
              "      <td>450618</td>\n",
              "      <td>24</td>\n",
              "      <td>05</td>\n",
              "      <td>2022</td>\n",
              "    </tr>\n",
              "  </tbody>\n",
              "</table>\n",
              "<p>589718 rows × 6 columns</p>\n",
              "</div>\n",
              "      <button class=\"colab-df-convert\" onclick=\"convertToInteractive('df-845f3a20-12db-4732-b007-43c767527357')\"\n",
              "              title=\"Convert this dataframe to an interactive table.\"\n",
              "              style=\"display:none;\">\n",
              "        \n",
              "  <svg xmlns=\"http://www.w3.org/2000/svg\" height=\"24px\"viewBox=\"0 0 24 24\"\n",
              "       width=\"24px\">\n",
              "    <path d=\"M0 0h24v24H0V0z\" fill=\"none\"/>\n",
              "    <path d=\"M18.56 5.44l.94 2.06.94-2.06 2.06-.94-2.06-.94-.94-2.06-.94 2.06-2.06.94zm-11 1L8.5 8.5l.94-2.06 2.06-.94-2.06-.94L8.5 2.5l-.94 2.06-2.06.94zm10 10l.94 2.06.94-2.06 2.06-.94-2.06-.94-.94-2.06-.94 2.06-2.06.94z\"/><path d=\"M17.41 7.96l-1.37-1.37c-.4-.4-.92-.59-1.43-.59-.52 0-1.04.2-1.43.59L10.3 9.45l-7.72 7.72c-.78.78-.78 2.05 0 2.83L4 21.41c.39.39.9.59 1.41.59.51 0 1.02-.2 1.41-.59l7.78-7.78 2.81-2.81c.8-.78.8-2.07 0-2.86zM5.41 20L4 18.59l7.72-7.72 1.47 1.35L5.41 20z\"/>\n",
              "  </svg>\n",
              "      </button>\n",
              "      \n",
              "  <style>\n",
              "    .colab-df-container {\n",
              "      display:flex;\n",
              "      flex-wrap:wrap;\n",
              "      gap: 12px;\n",
              "    }\n",
              "\n",
              "    .colab-df-convert {\n",
              "      background-color: #E8F0FE;\n",
              "      border: none;\n",
              "      border-radius: 50%;\n",
              "      cursor: pointer;\n",
              "      display: none;\n",
              "      fill: #1967D2;\n",
              "      height: 32px;\n",
              "      padding: 0 0 0 0;\n",
              "      width: 32px;\n",
              "    }\n",
              "\n",
              "    .colab-df-convert:hover {\n",
              "      background-color: #E2EBFA;\n",
              "      box-shadow: 0px 1px 2px rgba(60, 64, 67, 0.3), 0px 1px 3px 1px rgba(60, 64, 67, 0.15);\n",
              "      fill: #174EA6;\n",
              "    }\n",
              "\n",
              "    [theme=dark] .colab-df-convert {\n",
              "      background-color: #3B4455;\n",
              "      fill: #D2E3FC;\n",
              "    }\n",
              "\n",
              "    [theme=dark] .colab-df-convert:hover {\n",
              "      background-color: #434B5C;\n",
              "      box-shadow: 0px 1px 3px 1px rgba(0, 0, 0, 0.15);\n",
              "      filter: drop-shadow(0px 1px 2px rgba(0, 0, 0, 0.3));\n",
              "      fill: #FFFFFF;\n",
              "    }\n",
              "  </style>\n",
              "\n",
              "      <script>\n",
              "        const buttonEl =\n",
              "          document.querySelector('#df-845f3a20-12db-4732-b007-43c767527357 button.colab-df-convert');\n",
              "        buttonEl.style.display =\n",
              "          google.colab.kernel.accessAllowed ? 'block' : 'none';\n",
              "\n",
              "        async function convertToInteractive(key) {\n",
              "          const element = document.querySelector('#df-845f3a20-12db-4732-b007-43c767527357');\n",
              "          const dataTable =\n",
              "            await google.colab.kernel.invokeFunction('convertToInteractive',\n",
              "                                                     [key], {});\n",
              "          if (!dataTable) return;\n",
              "\n",
              "          const docLinkHtml = 'Like what you see? Visit the ' +\n",
              "            '<a target=\"_blank\" href=https://colab.research.google.com/notebooks/data_table.ipynb>data table notebook</a>'\n",
              "            + ' to learn more about interactive tables.';\n",
              "          element.innerHTML = '';\n",
              "          dataTable['output_type'] = 'display_data';\n",
              "          await google.colab.output.renderOutput(dataTable, element);\n",
              "          const docLink = document.createElement('div');\n",
              "          docLink.innerHTML = docLinkHtml;\n",
              "          element.appendChild(docLink);\n",
              "        }\n",
              "      </script>\n",
              "    </div>\n",
              "  </div>\n",
              "  "
            ]
          },
          "metadata": {},
          "execution_count": 3
        }
      ]
    },
    {
      "cell_type": "code",
      "source": [
        "X = coins_spend_original.iloc [:,[1,1]].values"
      ],
      "metadata": {
        "id": "4WNXmMtuRrCB"
      },
      "execution_count": 4,
      "outputs": []
    },
    {
      "cell_type": "markdown",
      "source": [
        "###clusterization of golden_csv\n",
        "and \n",
        "### Method Kmeans \n"
      ],
      "metadata": {
        "id": "FSfbFmyghnPx"
      }
    },
    {
      "cell_type": "code",
      "source": [
        "wcss = []\n",
        "for i in range (1,11):\n",
        "  kmeans =KMeans (n_clusters = i, init = 'k-means++', random_state = 42)\n",
        "  kmeans.fit(X)\n",
        "  wcss.append(kmeans.inertia_)\n",
        "plt.plot(range (1,11),wcss)\n",
        "plt.title('The Elbow Method')\n",
        "plt.xlabel('Number of cluster')\n",
        "plt.ylabel('WCSS')\n",
        "plt.show()"
      ],
      "metadata": {
        "colab": {
          "base_uri": "https://localhost:8080/",
          "height": 301
        },
        "id": "qWhFwMVYTHN3",
        "outputId": "b46537c7-4db7-4ea2-d448-4ab804b98c2e"
      },
      "execution_count": 5,
      "outputs": [
        {
          "output_type": "display_data",
          "data": {
            "text/plain": [
              "<Figure size 432x288 with 1 Axes>"
            ],
            "image/png": "[encoded data removed]"
          },
          "metadata": {
            "needs_background": "light"
          }
        }
      ]
    },
    {
      "cell_type": "code",
      "source": [
        "kmeans = KMeans (n_clusters = 4, init = 'k-means++', random_state = 42)\n",
        "y_kmeans = kmeans.fit_predict(X)"
      ],
      "metadata": {
        "id": "ei40IDrsVaJJ"
      },
      "execution_count": 6,
      "outputs": []
    },
    {
      "cell_type": "code",
      "source": [
        "plt.scatter(X[y_kmeans == 0,0], X[y_kmeans == 0,1], s = 100, c = 'red', label = 'cluster 1')\n",
        "plt.scatter(X[y_kmeans == 1,0], X[y_kmeans == 1,1], s = 100, c = 'blue', label = 'cluster 2')\n",
        "plt.scatter(X[y_kmeans == 2,0], X[y_kmeans == 2,1], s = 100, c = 'green', label = 'cluster 3')\n",
        "plt.scatter(X[y_kmeans == 3,0], X[y_kmeans == 3,1], s = 100, c = 'cyan', label = 'cluster 4')\n",
        "#plt.scatter(X[y_kmeans == 4,0], X[y_kmeans == 4,1], s = 100, c = 'magenta', label = 'cluster 5')\n",
        "plt.scatter(kmeans.cluster_centers_[:,0], kmeans.cluster_centers_[:,0], s = 100, c = 'yellow', label = 'centroid')\n",
        "plt.title ('Cluster of coins')\n",
        "plt.xlabel ('coins')\n",
        "plt.ylabel ('Value')\n",
        "plt.legend()\n",
        "plt.show()"
      ],
      "metadata": {
        "colab": {
          "base_uri": "https://localhost:8080/",
          "height": 301
        },
        "id": "9Wnq3hxLWK5F",
        "outputId": "5656fd65-3266-4cba-ad0b-11aab2c44cd6"
      },
      "execution_count": 7,
      "outputs": [
        {
          "output_type": "display_data",
          "data": {
            "text/plain": [
              "<Figure size 432x288 with 1 Axes>"
            ],
            "image/png": "[encoded data removed]"
          },
          "metadata": {
            "needs_background": "light"
          }
        }
      ]
    },
    {
      "cell_type": "markdown",
      "source": [
        "### import csv with activities of users"
      ],
      "metadata": {
        "id": "buMWirDWiN8R"
      }
    },
    {
      "cell_type": "code",
      "source": [
        "aclivity_original = pd.read_csv(\"activity.csv\", index_col=\"user_id\") # delimiter='\\t',\n",
        "aclivity_original['user_id'] = aclivity_original.index\n",
        "aclivity_original\n"
      ],
      "metadata": {
        "colab": {
          "base_uri": "https://localhost:8080/",
          "height": 655
        },
        "id": "tYKfquwGaB_T",
        "outputId": "3ac2568b-1ac5-48ed-cff5-2192de728027"
      },
      "execution_count": 8,
      "outputs": [
        {
          "output_type": "execute_result",
          "data": {
            "text/plain": [
              "            id                        created                       modified  \\\n",
              "user_id                                                                        \n",
              "339824      90  2022-04-27 11:32:16.060194+00  2022-05-13 22:59:10.581511+00   \n",
              "117477      16  2022-04-27 11:29:12.149032+00  2022-04-27 15:19:33.262239+00   \n",
              "231716      21  2022-04-27 11:29:24.585197+00  2022-05-22 02:07:37.725148+00   \n",
              "105716      74  2022-04-27 11:31:33.746618+00  2022-05-21 08:43:51.450263+00   \n",
              "235660      26  2022-04-27 11:29:28.342816+00  2022-05-05 11:07:05.635872+00   \n",
              "...        ...                            ...                            ...   \n",
              "515203   71159   2022-05-24 09:56:18.20248+00   2022-05-24 09:56:18.20248+00   \n",
              "111235   71160  2022-05-24 09:58:06.392404+00  2022-05-24 09:58:06.392404+00   \n",
              "236901   71161  2022-05-24 09:58:27.862909+00  2022-05-24 09:58:27.862909+00   \n",
              "352255   71162   2022-05-24 09:59:46.17276+00  2022-05-24 10:00:12.637258+00   \n",
              "513719   71163  2022-05-24 10:01:45.071272+00  2022-05-24 10:05:44.373918+00   \n",
              "\n",
              "         summary_activity  collection_activity  last_activity  \\\n",
              "user_id                                                         \n",
              "339824                 21                   15              1   \n",
              "117477                 44                   30              1   \n",
              "231716                 39                   27              1   \n",
              "105716                 63                   48              1   \n",
              "235660                 18                   15              1   \n",
              "...                   ...                  ...            ...   \n",
              "515203                  3                    0              1   \n",
              "111235                 33                   21              1   \n",
              "236901                  1                    0              1   \n",
              "352255                  0                    0              0   \n",
              "513719                  2                    0              1   \n",
              "\n",
              "         referral_activity  country_activity  event_activity  user_id  \n",
              "user_id                                                                \n",
              "339824                   0                 5               0   339824  \n",
              "117477                   0                 3              10   117477  \n",
              "231716                   2                 4               5   231716  \n",
              "105716                   0                 4              10   105716  \n",
              "235660                   0                 2               0   235660  \n",
              "...                    ...               ...             ...      ...  \n",
              "515203                   0                 2               0   515203  \n",
              "111235                   0                 1              10   111235  \n",
              "236901                   0                 0               0   236901  \n",
              "352255                   0                 0               0   352255  \n",
              "513719                   0                 1               0   513719  \n",
              "\n",
              "[71163 rows x 10 columns]"
            ],
            "text/html": [
              "\n",
              "  <div id=\"df-a765b0d7-ca05-40eb-b222-794a51c7ce65\">\n",
              "    <div class=\"colab-df-container\">\n",
              "      <div>\n",
              "<style scoped>\n",
              "    .dataframe tbody tr th:only-of-type {\n",
              "        vertical-align: middle;\n",
              "    }\n",
              "\n",
              "    .dataframe tbody tr th {\n",
              "        vertical-align: top;\n",
              "    }\n",
              "\n",
              "    .dataframe thead th {\n",
              "        text-align: right;\n",
              "    }\n",
              "</style>\n",
              "<table border=\"1\" class=\"dataframe\">\n",
              "  <thead>\n",
              "    <tr style=\"text-align: right;\">\n",
              "      <th></th>\n",
              "      <th>id</th>\n",
              "      <th>created</th>\n",
              "      <th>modified</th>\n",
              "      <th>summary_activity</th>\n",
              "      <th>collection_activity</th>\n",
              "      <th>last_activity</th>\n",
              "      <th>referral_activity</th>\n",
              "      <th>country_activity</th>\n",
              "      <th>event_activity</th>\n",
              "      <th>user_id</th>\n",
              "    </tr>\n",
              "    <tr>\n",
              "      <th>user_id</th>\n",
              "      <th></th>\n",
              "      <th></th>\n",
              "      <th></th>\n",
              "      <th></th>\n",
              "      <th></th>\n",
              "      <th></th>\n",
              "      <th></th>\n",
              "      <th></th>\n",
              "      <th></th>\n",
              "      <th></th>\n",
              "    </tr>\n",
              "  </thead>\n",
              "  <tbody>\n",
              "    <tr>\n",
              "      <th>339824</th>\n",
              "      <td>90</td>\n",
              "      <td>2022-04-27 11:32:16.060194+00</td>\n",
              "      <td>2022-05-13 22:59:10.581511+00</td>\n",
              "      <td>21</td>\n",
              "      <td>15</td>\n",
              "      <td>1</td>\n",
              "      <td>0</td>\n",
              "      <td>5</td>\n",
              "      <td>0</td>\n",
              "      <td>339824</td>\n",
              "    </tr>\n",
              "    <tr>\n",
              "      <th>117477</th>\n",
              "      <td>16</td>\n",
              "      <td>2022-04-27 11:29:12.149032+00</td>\n",
              "      <td>2022-04-27 15:19:33.262239+00</td>\n",
              "      <td>44</td>\n",
              "      <td>30</td>\n",
              "      <td>1</td>\n",
              "      <td>0</td>\n",
              "      <td>3</td>\n",
              "      <td>10</td>\n",
              "      <td>117477</td>\n",
              "    </tr>\n",
              "    <tr>\n",
              "      <th>231716</th>\n",
              "      <td>21</td>\n",
              "      <td>2022-04-27 11:29:24.585197+00</td>\n",
              "      <td>2022-05-22 02:07:37.725148+00</td>\n",
              "      <td>39</td>\n",
              "      <td>27</td>\n",
              "      <td>1</td>\n",
              "      <td>2</td>\n",
              "      <td>4</td>\n",
              "      <td>5</td>\n",
              "      <td>231716</td>\n",
              "    </tr>\n",
              "    <tr>\n",
              "      <th>105716</th>\n",
              "      <td>74</td>\n",
              "      <td>2022-04-27 11:31:33.746618+00</td>\n",
              "      <td>2022-05-21 08:43:51.450263+00</td>\n",
              "      <td>63</td>\n",
              "      <td>48</td>\n",
              "      <td>1</td>\n",
              "      <td>0</td>\n",
              "      <td>4</td>\n",
              "      <td>10</td>\n",
              "      <td>105716</td>\n",
              "    </tr>\n",
              "    <tr>\n",
              "      <th>235660</th>\n",
              "      <td>26</td>\n",
              "      <td>2022-04-27 11:29:28.342816+00</td>\n",
              "      <td>2022-05-05 11:07:05.635872+00</td>\n",
              "      <td>18</td>\n",
              "      <td>15</td>\n",
              "      <td>1</td>\n",
              "      <td>0</td>\n",
              "      <td>2</td>\n",
              "      <td>0</td>\n",
              "      <td>235660</td>\n",
              "    </tr>\n",
              "    <tr>\n",
              "      <th>...</th>\n",
              "      <td>...</td>\n",
              "      <td>...</td>\n",
              "      <td>...</td>\n",
              "      <td>...</td>\n",
              "      <td>...</td>\n",
              "      <td>...</td>\n",
              "      <td>...</td>\n",
              "      <td>...</td>\n",
              "      <td>...</td>\n",
              "      <td>...</td>\n",
              "    </tr>\n",
              "    <tr>\n",
              "      <th>515203</th>\n",
              "      <td>71159</td>\n",
              "      <td>2022-05-24 09:56:18.20248+00</td>\n",
              "      <td>2022-05-24 09:56:18.20248+00</td>\n",
              "      <td>3</td>\n",
              "      <td>0</td>\n",
              "      <td>1</td>\n",
              "      <td>0</td>\n",
              "      <td>2</td>\n",
              "      <td>0</td>\n",
              "      <td>515203</td>\n",
              "    </tr>\n",
              "    <tr>\n",
              "      <th>111235</th>\n",
              "      <td>71160</td>\n",
              "      <td>2022-05-24 09:58:06.392404+00</td>\n",
              "      <td>2022-05-24 09:58:06.392404+00</td>\n",
              "      <td>33</td>\n",
              "      <td>21</td>\n",
              "      <td>1</td>\n",
              "      <td>0</td>\n",
              "      <td>1</td>\n",
              "      <td>10</td>\n",
              "      <td>111235</td>\n",
              "    </tr>\n",
              "    <tr>\n",
              "      <th>236901</th>\n",
              "      <td>71161</td>\n",
              "      <td>2022-05-24 09:58:27.862909+00</td>\n",
              "      <td>2022-05-24 09:58:27.862909+00</td>\n",
              "      <td>1</td>\n",
              "      <td>0</td>\n",
              "      <td>1</td>\n",
              "      <td>0</td>\n",
              "      <td>0</td>\n",
              "      <td>0</td>\n",
              "      <td>236901</td>\n",
              "    </tr>\n",
              "    <tr>\n",
              "      <th>352255</th>\n",
              "      <td>71162</td>\n",
              "      <td>2022-05-24 09:59:46.17276+00</td>\n",
              "      <td>2022-05-24 10:00:12.637258+00</td>\n",
              "      <td>0</td>\n",
              "      <td>0</td>\n",
              "      <td>0</td>\n",
              "      <td>0</td>\n",
              "      <td>0</td>\n",
              "      <td>0</td>\n",
              "      <td>352255</td>\n",
              "    </tr>\n",
              "    <tr>\n",
              "      <th>513719</th>\n",
              "      <td>71163</td>\n",
              "      <td>2022-05-24 10:01:45.071272+00</td>\n",
              "      <td>2022-05-24 10:05:44.373918+00</td>\n",
              "      <td>2</td>\n",
              "      <td>0</td>\n",
              "      <td>1</td>\n",
              "      <td>0</td>\n",
              "      <td>1</td>\n",
              "      <td>0</td>\n",
              "      <td>513719</td>\n",
              "    </tr>\n",
              "  </tbody>\n",
              "</table>\n",
              "<p>71163 rows × 10 columns</p>\n",
              "</div>\n",
              "      <button class=\"colab-df-convert\" onclick=\"convertToInteractive('df-a765b0d7-ca05-40eb-b222-794a51c7ce65')\"\n",
              "              title=\"Convert this dataframe to an interactive table.\"\n",
              "              style=\"display:none;\">\n",
              "        \n",
              "  <svg xmlns=\"http://www.w3.org/2000/svg\" height=\"24px\"viewBox=\"0 0 24 24\"\n",
              "       width=\"24px\">\n",
              "    <path d=\"M0 0h24v24H0V0z\" fill=\"none\"/>\n",
              "    <path d=\"M18.56 5.44l.94 2.06.94-2.06 2.06-.94-2.06-.94-.94-2.06-.94 2.06-2.06.94zm-11 1L8.5 8.5l.94-2.06 2.06-.94-2.06-.94L8.5 2.5l-.94 2.06-2.06.94zm10 10l.94 2.06.94-2.06 2.06-.94-2.06-.94-.94-2.06-.94 2.06-2.06.94z\"/><path d=\"M17.41 7.96l-1.37-1.37c-.4-.4-.92-.59-1.43-.59-.52 0-1.04.2-1.43.59L10.3 9.45l-7.72 7.72c-.78.78-.78 2.05 0 2.83L4 21.41c.39.39.9.59 1.41.59.51 0 1.02-.2 1.41-.59l7.78-7.78 2.81-2.81c.8-.78.8-2.07 0-2.86zM5.41 20L4 18.59l7.72-7.72 1.47 1.35L5.41 20z\"/>\n",
              "  </svg>\n",
              "      </button>\n",
              "      \n",
              "  <style>\n",
              "    .colab-df-container {\n",
              "      display:flex;\n",
              "      flex-wrap:wrap;\n",
              "      gap: 12px;\n",
              "    }\n",
              "\n",
              "    .colab-df-convert {\n",
              "      background-color: #E8F0FE;\n",
              "      border: none;\n",
              "      border-radius: 50%;\n",
              "      cursor: pointer;\n",
              "      display: none;\n",
              "      fill: #1967D2;\n",
              "      height: 32px;\n",
              "      padding: 0 0 0 0;\n",
              "      width: 32px;\n",
              "    }\n",
              "\n",
              "    .colab-df-convert:hover {\n",
              "      background-color: #E2EBFA;\n",
              "      box-shadow: 0px 1px 2px rgba(60, 64, 67, 0.3), 0px 1px 3px 1px rgba(60, 64, 67, 0.15);\n",
              "      fill: #174EA6;\n",
              "    }\n",
              "\n",
              "    [theme=dark] .colab-df-convert {\n",
              "      background-color: #3B4455;\n",
              "      fill: #D2E3FC;\n",
              "    }\n",
              "\n",
              "    [theme=dark] .colab-df-convert:hover {\n",
              "      background-color: #434B5C;\n",
              "      box-shadow: 0px 1px 3px 1px rgba(0, 0, 0, 0.15);\n",
              "      filter: drop-shadow(0px 1px 2px rgba(0, 0, 0, 0.3));\n",
              "      fill: #FFFFFF;\n",
              "    }\n",
              "  </style>\n",
              "\n",
              "      <script>\n",
              "        const buttonEl =\n",
              "          document.querySelector('#df-a765b0d7-ca05-40eb-b222-794a51c7ce65 button.colab-df-convert');\n",
              "        buttonEl.style.display =\n",
              "          google.colab.kernel.accessAllowed ? 'block' : 'none';\n",
              "\n",
              "        async function convertToInteractive(key) {\n",
              "          const element = document.querySelector('#df-a765b0d7-ca05-40eb-b222-794a51c7ce65');\n",
              "          const dataTable =\n",
              "            await google.colab.kernel.invokeFunction('convertToInteractive',\n",
              "                                                     [key], {});\n",
              "          if (!dataTable) return;\n",
              "\n",
              "          const docLinkHtml = 'Like what you see? Visit the ' +\n",
              "            '<a target=\"_blank\" href=https://colab.research.google.com/notebooks/data_table.ipynb>data table notebook</a>'\n",
              "            + ' to learn more about interactive tables.';\n",
              "          element.innerHTML = '';\n",
              "          dataTable['output_type'] = 'display_data';\n",
              "          await google.colab.output.renderOutput(dataTable, element);\n",
              "          const docLink = document.createElement('div');\n",
              "          docLink.innerHTML = docLinkHtml;\n",
              "          element.appendChild(docLink);\n",
              "        }\n",
              "      </script>\n",
              "    </div>\n",
              "  </div>\n",
              "  "
            ]
          },
          "metadata": {},
          "execution_count": 8
        }
      ]
    },
    {
      "cell_type": "markdown",
      "source": [
        "### clusterization for collection_activity, referral_activity and event_activity"
      ],
      "metadata": {
        "id": "v6olPtHciWBL"
      }
    },
    {
      "cell_type": "code",
      "source": [
        "X = aclivity_original.iloc [:,[4,6,8]].values"
      ],
      "metadata": {
        "id": "RG8STzFba4BL"
      },
      "execution_count": 9,
      "outputs": []
    },
    {
      "cell_type": "code",
      "source": [
        "wcss = []\n",
        "for i in range (1,11):\n",
        "  kmeans =KMeans (n_clusters = i, init = 'k-means++', random_state = 42)\n",
        "  kmeans.fit(X)\n",
        "  wcss.append(kmeans.inertia_)\n",
        "plt.plot(range (1,11),wcss)\n",
        "plt.title('The Elbow Method')\n",
        "plt.xlabel('Number of cluster')\n",
        "plt.ylabel('WCSS')\n",
        "plt.show()"
      ],
      "metadata": {
        "colab": {
          "base_uri": "https://localhost:8080/",
          "height": 301
        },
        "id": "xGBLqg5WbjTd",
        "outputId": "d371e6f3-f329-41b0-fa30-c4d45e681aca"
      },
      "execution_count": 10,
      "outputs": [
        {
          "output_type": "display_data",
          "data": {
            "text/plain": [
              "<Figure size 432x288 with 1 Axes>"
            ],
            "image/png": "[encoded data removed]"
          },
          "metadata": {
            "needs_background": "light"
          }
        }
      ]
    },
    {
      "cell_type": "code",
      "source": [
        "kmeans = KMeans (n_clusters = 5, init = 'k-means++', random_state = 42)\n",
        "y_kmeans = kmeans.fit_predict(X)"
      ],
      "metadata": {
        "id": "eZVgTWtZbq5G"
      },
      "execution_count": 11,
      "outputs": []
    },
    {
      "cell_type": "code",
      "source": [
        "plt.scatter(X[y_kmeans == 0,0], X[y_kmeans == 0,1], s = 100, c = 'red', label = 'cluster 1')\n",
        "plt.scatter(X[y_kmeans == 1,0], X[y_kmeans == 1,1], s = 100, c = 'blue', label = 'cluster 2')\n",
        "plt.scatter(X[y_kmeans == 2,0], X[y_kmeans == 2,1], s = 100, c = 'green', label = 'cluster 3')\n",
        "plt.scatter(X[y_kmeans == 3,0], X[y_kmeans == 3,1], s = 100, c = 'cyan', label = 'cluster 4')\n",
        "plt.scatter(X[y_kmeans == 4,0], X[y_kmeans == 4,1], s = 100, c = 'magenta', label = 'cluster 5')\n",
        "plt.scatter(kmeans.cluster_centers_[:,0], kmeans.cluster_centers_[:,0], s = 100, c = 'yellow', label = 'centroid')\n",
        "plt.title ('Cluster of activity: collection , referal, event')\n",
        "plt.xlabel ('activity')\n",
        "plt.ylabel ('Value')\n",
        "plt.legend()\n",
        "plt.show()"
      ],
      "metadata": {
        "colab": {
          "base_uri": "https://localhost:8080/",
          "height": 301
        },
        "id": "Bgyw1WFlbzhx",
        "outputId": "84596347-7c83-499a-8370-e47b3ec3bb0e"
      },
      "execution_count": 12,
      "outputs": [
        {
          "output_type": "display_data",
          "data": {
            "text/plain": [
              "<Figure size 432x288 with 1 Axes>"
            ],
            "image/png": "[encoded data removed]"
          },
          "metadata": {
            "needs_background": "light"
          }
        }
      ]
    },
    {
      "cell_type": "markdown",
      "source": [
        "### clusterization for collection_activity and referral_activity "
      ],
      "metadata": {
        "id": "W_B28SFkimyN"
      }
    },
    {
      "cell_type": "code",
      "source": [
        "X = aclivity_original.iloc [:,[4,6]].values\n",
        "wcss = []\n",
        "for i in range (1,11):\n",
        "  kmeans =KMeans (n_clusters = i, init = 'k-means++', random_state = 42)\n",
        "  kmeans.fit(X)\n",
        "  wcss.append(kmeans.inertia_)\n",
        "\n",
        "kmeans = KMeans (n_clusters = 4, init = 'k-means++', random_state = 42)\n",
        "y_kmeans = kmeans.fit_predict(X)\n",
        "\n",
        "plt.plot(range (1,11),wcss)\n",
        "plt.title('The Elbow Method')\n",
        "plt.xlabel('Number of cluster')\n",
        "plt.ylabel('WCSS')\n",
        "plt.show()\n",
        "plt.scatter(X[y_kmeans == 0,0], X[y_kmeans == 0,1], s = 100, c = 'red', label = 'cluster 1')\n",
        "plt.scatter(X[y_kmeans == 1,0], X[y_kmeans == 1,1], s = 100, c = 'blue', label = 'cluster 2')\n",
        "plt.scatter(X[y_kmeans == 2,0], X[y_kmeans == 2,1], s = 100, c = 'green', label = 'cluster 3')\n",
        "plt.scatter(X[y_kmeans == 3,0], X[y_kmeans == 3,1], s = 100, c = 'cyan', label = 'cluster 4')\n",
        "plt.scatter(X[y_kmeans == 4,0], X[y_kmeans == 4,1], s = 100, c = 'magenta', label = 'cluster 5')\n",
        "plt.scatter(kmeans.cluster_centers_[:,0], kmeans.cluster_centers_[:,0], s = 100, c = 'yellow', label = 'centroid')\n",
        "plt.title ('Cluster of activity: collection , referal')\n",
        "plt.xlabel (' activity')\n",
        "plt.ylabel ('Value')\n",
        "plt.legend()\n",
        "plt.show()"
      ],
      "metadata": {
        "colab": {
          "base_uri": "https://localhost:8080/",
          "height": 585
        },
        "id": "S0NAWzqXd4Om",
        "outputId": "e62bfc1a-e55e-4d1c-bd6f-b14f84334891"
      },
      "execution_count": 13,
      "outputs": [
        {
          "output_type": "display_data",
          "data": {
            "text/plain": [
              "<Figure size 432x288 with 1 Axes>"
            ],
            "image/png": "[encoded data removed]"
          },
          "metadata": {
            "needs_background": "light"
          }
        },
        {
          "output_type": "display_data",
          "data": {
            "text/plain": [
              "<Figure size 432x288 with 1 Axes>"
            ],
            "image/png": "[encoded data removed]"
          },
          "metadata": {
            "needs_background": "light"
          }
        }
      ]
    },
    {
      "cell_type": "markdown",
      "source": [
        "### clusterization for collection_activity and event_activity"
      ],
      "metadata": {
        "id": "IWei85DgitOp"
      }
    },
    {
      "cell_type": "code",
      "source": [
        "X = aclivity_original.iloc [:,[4,8]].values\n",
        "wcss = []\n",
        "for i in range (1,11):\n",
        "  kmeans =KMeans (n_clusters = i, init = 'k-means++', random_state = 42)\n",
        "  kmeans.fit(X)\n",
        "  wcss.append(kmeans.inertia_)\n",
        "\n",
        "\n",
        "plt.plot(range (1,11),wcss)\n",
        "plt.title('The Elbow Method')\n",
        "plt.xlabel('Number of cluster')\n",
        "plt.ylabel('WCSS')\n",
        "plt.show()\n",
        "\n",
        "kmeans = KMeans (n_clusters = 4, init = 'k-means++', random_state = 42)\n",
        "y_kmeans = kmeans.fit_predict(X)\n",
        "\n",
        "\n",
        "plt.scatter(X[y_kmeans == 0,0], X[y_kmeans == 0,1], s = 100, c = 'red', label = 'cluster 1')\n",
        "plt.scatter(X[y_kmeans == 1,0], X[y_kmeans == 1,1], s = 100, c = 'blue', label = 'cluster 2')\n",
        "plt.scatter(X[y_kmeans == 2,0], X[y_kmeans == 2,1], s = 100, c = 'green', label = 'cluster 3')\n",
        "plt.scatter(X[y_kmeans == 3,0], X[y_kmeans == 3,1], s = 100, c = 'cyan', label = 'cluster 4')\n",
        "plt.scatter(X[y_kmeans == 4,0], X[y_kmeans == 4,1], s = 100, c = 'magenta', label = 'cluster 5')\n",
        "plt.scatter(kmeans.cluster_centers_[:,0], kmeans.cluster_centers_[:,0], s = 100, c = 'yellow', label = 'centroid')\n",
        "plt.title ('Cluster of activity: collection , event')\n",
        "plt.xlabel ('activity')\n",
        "plt.ylabel ('Value')\n",
        "plt.legend()\n",
        "plt.show()"
      ],
      "metadata": {
        "colab": {
          "base_uri": "https://localhost:8080/",
          "height": 585
        },
        "id": "333xLl8Ed4zA",
        "outputId": "d5cb2329-6ebd-453d-d309-7354f11530d5"
      },
      "execution_count": 14,
      "outputs": [
        {
          "output_type": "display_data",
          "data": {
            "text/plain": [
              "<Figure size 432x288 with 1 Axes>"
            ],
            "image/png": "[encoded data removed]"
          },
          "metadata": {
            "needs_background": "light"
          }
        },
        {
          "output_type": "display_data",
          "data": {
            "text/plain": [
              "<Figure size 432x288 with 1 Axes>"
            ],
            "image/png": "[encoded data removed]"
          },
          "metadata": {
            "needs_background": "light"
          }
        }
      ]
    },
    {
      "cell_type": "markdown",
      "source": [
        "### clusterization for collection_activity, referral_activity and last_activity"
      ],
      "metadata": {
        "id": "9ogiyHSgi0AI"
      }
    },
    {
      "cell_type": "code",
      "source": [
        "X = aclivity_original.iloc [:,[6,8]].values\n",
        "wcss = []\n",
        "for i in range (1,11):\n",
        "  kmeans =KMeans (n_clusters = i, init = 'k-means++', random_state = 42)\n",
        "  kmeans.fit(X)\n",
        "  wcss.append(kmeans.inertia_)\n",
        "\n",
        "\n",
        "plt.plot(range (1,11),wcss)\n",
        "plt.title('The Elbow Method')\n",
        "plt.xlabel('Number of cluster')\n",
        "plt.ylabel('WCSS')\n",
        "plt.show()\n",
        "\n",
        "kmeans = KMeans (n_clusters = 4, init = 'k-means++', random_state = 42)\n",
        "y_kmeans = kmeans.fit_predict(X)\n",
        "\n",
        "\n",
        "plt.scatter(X[y_kmeans == 0,0], X[y_kmeans == 0,1], s = 100, c = 'red', label = 'cluster 1')\n",
        "plt.scatter(X[y_kmeans == 1,0], X[y_kmeans == 1,1], s = 100, c = 'blue', label = 'cluster 2')\n",
        "plt.scatter(X[y_kmeans == 2,0], X[y_kmeans == 2,1], s = 100, c = 'green', label = 'cluster 3')\n",
        "plt.scatter(X[y_kmeans == 3,0], X[y_kmeans == 3,1], s = 100, c = 'cyan', label = 'cluster 4')\n",
        "plt.scatter(X[y_kmeans == 4,0], X[y_kmeans == 4,1], s = 100, c = 'magenta', label = 'cluster 5')\n",
        "plt.scatter(kmeans.cluster_centers_[:,0], kmeans.cluster_centers_[:,0], s = 100, c = 'yellow', label = 'centroid')\n",
        "plt.title ('Cluster of activity: referal , event')\n",
        "plt.xlabel (' activity')\n",
        "plt.ylabel ('Value')\n",
        "plt.legend()\n",
        "plt.show()"
      ],
      "metadata": {
        "colab": {
          "base_uri": "https://localhost:8080/",
          "height": 585
        },
        "id": "mIl1vYN9gizN",
        "outputId": "a22f1129-87f6-4174-9605-aaf4301276f9"
      },
      "execution_count": 15,
      "outputs": [
        {
          "output_type": "display_data",
          "data": {
            "text/plain": [
              "<Figure size 432x288 with 1 Axes>"
            ],
            "image/png": "[encoded data removed]"
          },
          "metadata": {
            "needs_background": "light"
          }
        },
        {
          "output_type": "display_data",
          "data": {
            "text/plain": [
              "<Figure size 432x288 with 1 Axes>"
            ],
            "image/png": "[encoded data removed]"
          },
          "metadata": {
            "needs_background": "light"
          }
        }
      ]
    }
  ]
}